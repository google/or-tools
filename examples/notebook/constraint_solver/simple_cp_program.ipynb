{
 "cells": [
  {
   "cell_type": "markdown",
   "id": "google",
   "metadata": {},
   "source": [
    "##### Copyright 2022 Google LLC."
   ]
  },
  {
   "cell_type": "markdown",
   "id": "apache",
   "metadata": {},
   "source": [
    "Licensed under the Apache License, Version 2.0 (the \"License\");\n",
    "you may not use this file except in compliance with the License.\n",
    "You may obtain a copy of the License at\n",
    "\n",
    "    http://www.apache.org/licenses/LICENSE-2.0\n",
    "\n",
    "Unless required by applicable law or agreed to in writing, software\n",
    "distributed under the License is distributed on an \"AS IS\" BASIS,\n",
    "WITHOUT WARRANTIES OR CONDITIONS OF ANY KIND, either express or implied.\n",
    "See the License for the specific language governing permissions and\n",
    "limitations under the License.\n"
   ]
  },
  {
   "cell_type": "markdown",
   "id": "basename",
   "metadata": {},
   "source": [
    "# simple_cp_program"
   ]
  },
  {
   "cell_type": "markdown",
   "id": "link",
   "metadata": {},
   "source": [
    "<table align=\"left\">\n",
    "<td>\n",
    "<a href=\"https://colab.research.google.com/github/google/or-tools/blob/main/examples/notebook/constraint_solver/simple_cp_program.ipynb\"><img src=\"https://raw.githubusercontent.com/google/or-tools/main/tools/colab_32px.png\"/>Run in Google Colab</a>\n",
    "</td>\n",
    "<td>\n",
    "<a href=\"https://github.com/google/or-tools/blob/main/ortools/constraint_solver/samples/simple_cp_program.py\"><img src=\"https://raw.githubusercontent.com/google/or-tools/main/tools/github_32px.png\"/>View source on GitHub</a>\n",
    "</td>\n",
    "</table>"
   ]
  },
  {
   "cell_type": "markdown",
   "id": "doc",
   "metadata": {},
   "source": [
    "First, you must install [ortools](https://pypi.org/project/ortools/) package in this colab."
   ]
  },
  {
   "cell_type": "code",
   "execution_count": null,
   "id": "install",
   "metadata": {},
   "outputs": [],
   "source": [
    "!pip install ortools"
   ]
  },
  {
   "cell_type": "markdown",
   "id": "description",
   "metadata": {},
   "source": [
    "\n",
    "Simple Constraint optimization example.\n"
   ]
  },
  {
   "cell_type": "code",
   "execution_count": null,
   "id": "code",
   "metadata": {},
   "outputs": [],
   "source": [
    "from ortools.constraint_solver import pywrapcp\n",
    "\n",
    "\n",
    "def main():\n",
    "    \"\"\"Entry point of the program.\"\"\"\n",
    "    # Instantiate the solver.\n",
    "    solver = pywrapcp.Solver('CPSimple')\n",
    "\n",
    "    # Create the variables.\n",
    "    num_vals = 3\n",
    "    x = solver.IntVar(0, num_vals - 1, 'x')\n",
    "    y = solver.IntVar(0, num_vals - 1, 'y')\n",
    "    z = solver.IntVar(0, num_vals - 1, 'z')\n",
    "\n",
    "    # Constraint 0: x != y.\n",
    "    solver.Add(x != y)\n",
    "    print('Number of constraints: ', solver.Constraints())\n",
    "\n",
    "    # Solve the problem.\n",
    "    decision_builder = solver.Phase([x, y, z], solver.CHOOSE_FIRST_UNBOUND,\n",
    "                                    solver.ASSIGN_MIN_VALUE)\n",
    "\n",
    "    # Print solution on console.\n",
    "    count = 0\n",
    "    solver.NewSearch(decision_builder)\n",
    "    while solver.NextSolution():\n",
    "        count += 1\n",
    "        solution = 'Solution {}:\\n'.format(count)\n",
    "        for var in [x, y, z]:\n",
    "            solution += ' {} = {}'.format(var.Name(), var.Value())\n",
    "        print(solution)\n",
    "    solver.EndSearch()\n",
    "    print('Number of solutions found: ', count)\n",
    "\n",
    "    print('Advanced usage:')\n",
    "    print('Problem solved in ', solver.WallTime(), 'ms')\n",
    "    print('Memory usage: ', pywrapcp.Solver.MemoryUsage(), 'bytes')\n",
    "\n",
    "\n",
    "main()\n",
    "\n"
   ]
  }
 ],
 "metadata": {},
 "nbformat": 4,
 "nbformat_minor": 5
}
