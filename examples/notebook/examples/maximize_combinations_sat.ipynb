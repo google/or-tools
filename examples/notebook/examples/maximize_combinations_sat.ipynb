{
 "cells": [
  {
   "cell_type": "markdown",
   "id": "google",
   "metadata": {},
   "source": [
    "##### Copyright 2024 Google LLC."
   ]
  },
  {
   "cell_type": "markdown",
   "id": "apache",
   "metadata": {},
   "source": [
    "Licensed under the Apache License, Version 2.0 (the \"License\");\n",
    "you may not use this file except in compliance with the License.\n",
    "You may obtain a copy of the License at\n",
    "\n",
    "    http://www.apache.org/licenses/LICENSE-2.0\n",
    "\n",
    "Unless required by applicable law or agreed to in writing, software\n",
    "distributed under the License is distributed on an \"AS IS\" BASIS,\n",
    "WITHOUT WARRANTIES OR CONDITIONS OF ANY KIND, either express or implied.\n",
    "See the License for the specific language governing permissions and\n",
    "limitations under the License.\n"
   ]
  },
  {
   "cell_type": "markdown",
   "id": "basename",
   "metadata": {},
   "source": [
    "# maximize_combinations_sat"
   ]
  },
  {
   "cell_type": "markdown",
   "id": "link",
   "metadata": {},
   "source": [
    "<table align=\"left\">\n",
    "<td>\n",
    "<a href=\"https://colab.research.google.com/github/google/or-tools/blob/main/examples/notebook/examples/maximize_combinations_sat.ipynb\"><img src=\"https://raw.githubusercontent.com/google/or-tools/main/tools/colab_32px.png\"/>Run in Google Colab</a>\n",
    "</td>\n",
    "<td>\n",
    "<a href=\"https://github.com/google/or-tools/blob/main/examples/python/maximize_combinations_sat.py\"><img src=\"https://raw.githubusercontent.com/google/or-tools/main/tools/github_32px.png\"/>View source on GitHub</a>\n",
    "</td>\n",
    "</table>"
   ]
  },
  {
   "cell_type": "markdown",
   "id": "doc",
   "metadata": {},
   "source": [
    "First, you must install [ortools](https://pypi.org/project/ortools/) package in this colab."
   ]
  },
  {
   "cell_type": "code",
   "execution_count": null,
   "id": "install",
   "metadata": {},
   "outputs": [],
   "source": [
    "%pip install ortools"
   ]
  },
  {
   "cell_type": "markdown",
   "id": "description",
   "metadata": {},
   "source": [
    "\n",
    "Maximize the number of valid combinations of Boolean variables.\n"
   ]
  },
  {
   "cell_type": "code",
   "execution_count": null,
   "id": "code",
   "metadata": {},
   "outputs": [],
   "source": [
    "from typing import Sequence\n",
    "from ortools.sat.python import cp_model\n",
    "\n",
    "\n",
    "def maximize_combinations_sat() -> None:\n",
    "    \"\"\"Maximize the number of valid combinations of Boolean variables.\"\"\"\n",
    "    model = cp_model.CpModel()\n",
    "    cards: list[cp_model.IntVar] = [\n",
    "        model.new_bool_var(\"card1\"),\n",
    "        model.new_bool_var(\"card2\"),\n",
    "        model.new_bool_var(\"card3\"),\n",
    "        model.new_bool_var(\"card4\"),\n",
    "    ]\n",
    "\n",
    "    combos: list[list[cp_model.IntVar]] = [\n",
    "        [cards[0], cards[1]],\n",
    "        [cards[0], cards[2]],\n",
    "        [cards[1], cards[3]],\n",
    "        [cards[0], cards[2], cards[3]],\n",
    "    ]\n",
    "\n",
    "    deck_size: int = 3\n",
    "    model.add(sum(cards) == deck_size)\n",
    "\n",
    "    valid_combos: list[cp_model.IntVar] = []\n",
    "    for combination in combos:\n",
    "        is_valid = model.new_bool_var(\"\")\n",
    "\n",
    "        # All true implies is_valid.\n",
    "        model.add_bool_and(is_valid).only_enforce_if(combination)\n",
    "\n",
    "        # is_valid implies all true.\n",
    "        for literal in combination:\n",
    "            model.add_implication(is_valid, literal)\n",
    "        valid_combos.append(is_valid)\n",
    "\n",
    "    model.maximize(sum(valid_combos))\n",
    "\n",
    "    solver = cp_model.CpSolver()\n",
    "    solver.parameters.log_search_progress = True\n",
    "    status = solver.solve(model)\n",
    "\n",
    "    if status == cp_model.OPTIMAL:\n",
    "        print(\n",
    "            \"chosen cards:\",\n",
    "            [card.name for card in cards if solver.boolean_value(card)],\n",
    "        )\n",
    "\n",
    "\n",
    "def main(argv: Sequence[str]) -> None:\n",
    "    if len(argv) > 1:\n",
    "        raise app.UsageError(\"Too many command-line arguments.\")\n",
    "    maximize_combinations_sat()\n",
    "\n",
    "\n",
    "main()\n",
    "\n"
   ]
  }
 ],
 "metadata": {},
 "nbformat": 4,
 "nbformat_minor": 5
}
