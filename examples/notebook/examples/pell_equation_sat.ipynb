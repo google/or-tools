{
 "cells": [
  {
   "cell_type": "markdown",
   "id": "google",
   "metadata": {},
   "source": [
    "##### Copyright 2024 Google LLC."
   ]
  },
  {
   "cell_type": "markdown",
   "id": "apache",
   "metadata": {},
   "source": [
    "Licensed under the Apache License, Version 2.0 (the \"License\");\n",
    "you may not use this file except in compliance with the License.\n",
    "You may obtain a copy of the License at\n",
    "\n",
    "    http://www.apache.org/licenses/LICENSE-2.0\n",
    "\n",
    "Unless required by applicable law or agreed to in writing, software\n",
    "distributed under the License is distributed on an \"AS IS\" BASIS,\n",
    "WITHOUT WARRANTIES OR CONDITIONS OF ANY KIND, either express or implied.\n",
    "See the License for the specific language governing permissions and\n",
    "limitations under the License.\n"
   ]
  },
  {
   "cell_type": "markdown",
   "id": "basename",
   "metadata": {},
   "source": [
    "# pell_equation_sat"
   ]
  },
  {
   "cell_type": "markdown",
   "id": "link",
   "metadata": {},
   "source": [
    "<table align=\"left\">\n",
    "<td>\n",
    "<a href=\"https://colab.research.google.com/github/google/or-tools/blob/main/examples/notebook/examples/pell_equation_sat.ipynb\"><img src=\"https://raw.githubusercontent.com/google/or-tools/main/tools/colab_32px.png\"/>Run in Google Colab</a>\n",
    "</td>\n",
    "<td>\n",
    "<a href=\"https://github.com/google/or-tools/blob/main/examples/python/pell_equation_sat.py\"><img src=\"https://raw.githubusercontent.com/google/or-tools/main/tools/github_32px.png\"/>View source on GitHub</a>\n",
    "</td>\n",
    "</table>"
   ]
  },
  {
   "cell_type": "markdown",
   "id": "doc",
   "metadata": {},
   "source": [
    "First, you must install [ortools](https://pypi.org/project/ortools/) package in this colab."
   ]
  },
  {
   "cell_type": "code",
   "execution_count": null,
   "id": "install",
   "metadata": {},
   "outputs": [],
   "source": [
    "%pip install ortools"
   ]
  },
  {
   "cell_type": "markdown",
   "id": "description",
   "metadata": {},
   "source": [
    "\n",
    "Solves Pell's equation x^2 - coeff * y^2 = 1.\n"
   ]
  },
  {
   "cell_type": "code",
   "execution_count": null,
   "id": "code",
   "metadata": {},
   "outputs": [],
   "source": [
    "from collections.abc import Sequence\n",
    "\n",
    "from ortools.sat.colab import flags\n",
    "from ortools.sat.python import cp_model\n",
    "\n",
    "\n",
    "_COEFF = flags.define_integer(\"coeff\", 1, \"The Pell equation coefficient.\")\n",
    "_MAX_VALUE = flags.define_integer(\"max_value\", 5000_000, \"The maximum value.\")\n",
    "\n",
    "\n",
    "def solve_pell(coeff: int, max_value: int) -> None:\n",
    "    \"\"\"Solves Pell's equation x^2 - coeff * y^2 = 1.\"\"\"\n",
    "    model = cp_model.CpModel()\n",
    "\n",
    "    x = model.new_int_var(1, max_value, \"x\")\n",
    "    y = model.new_int_var(1, max_value, \"y\")\n",
    "\n",
    "    # Pell's equation:\n",
    "    x_square = model.new_int_var(1, max_value * max_value, \"x_square\")\n",
    "    y_square = model.new_int_var(1, max_value * max_value, \"y_square\")\n",
    "    model.add_multiplication_equality(x_square, x, x)\n",
    "    model.add_multiplication_equality(y_square, y, y)\n",
    "    model.add(x_square - coeff * y_square == 1)\n",
    "\n",
    "    model.add_decision_strategy(\n",
    "        [x, y], cp_model.CHOOSE_MIN_DOMAIN_SIZE, cp_model.SELECT_MIN_VALUE\n",
    "    )\n",
    "\n",
    "    solver = cp_model.CpSolver()\n",
    "    solver.parameters.num_workers = 12\n",
    "    solver.parameters.log_search_progress = True\n",
    "    solver.parameters.cp_model_presolve = True\n",
    "    solver.parameters.cp_model_probing_level = 0\n",
    "\n",
    "    result = solver.solve(model)\n",
    "    if result == cp_model.OPTIMAL:\n",
    "        print(f\"x={solver.value(x)} y={solver.value(y)} coeff={coeff}\")\n",
    "        if solver.value(x) ** 2 - coeff * (solver.value(y) ** 2) != 1:\n",
    "            raise ValueError(\"Pell equation not satisfied.\")\n",
    "\n",
    "\n",
    "def main(argv: Sequence[str]) -> None:\n",
    "    if len(argv) > 1:\n",
    "        raise app.UsageError(\"Too many command-line arguments.\")\n",
    "    solve_pell(_COEFF.value, _MAX_VALUE.value)\n",
    "\n",
    "\n",
    "main()\n",
    "\n"
   ]
  }
 ],
 "metadata": {},
 "nbformat": 4,
 "nbformat_minor": 5
}
