{
 "cells": [
  {
   "cell_type": "markdown",
   "id": "google",
   "metadata": {},
   "source": [
    "##### Copyright 2022 Google LLC."
   ]
  },
  {
   "cell_type": "markdown",
   "id": "apache",
   "metadata": {},
   "source": [
    "Licensed under the Apache License, Version 2.0 (the \"License\");\n",
    "you may not use this file except in compliance with the License.\n",
    "You may obtain a copy of the License at\n",
    "\n",
    "    http://www.apache.org/licenses/LICENSE-2.0\n",
    "\n",
    "Unless required by applicable law or agreed to in writing, software\n",
    "distributed under the License is distributed on an \"AS IS\" BASIS,\n",
    "WITHOUT WARRANTIES OR CONDITIONS OF ANY KIND, either express or implied.\n",
    "See the License for the specific language governing permissions and\n",
    "limitations under the License.\n"
   ]
  },
  {
   "cell_type": "markdown",
   "id": "basename",
   "metadata": {},
   "source": [
    "# chemical_balance_sat"
   ]
  },
  {
   "cell_type": "markdown",
   "id": "link",
   "metadata": {},
   "source": [
    "<table align=\"left\">\n",
    "<td>\n",
    "<a href=\"https://colab.research.google.com/github/google/or-tools/blob/main/examples/notebook/examples/chemical_balance_sat.ipynb\"><img src=\"https://raw.githubusercontent.com/google/or-tools/main/tools/colab_32px.png\"/>Run in Google Colab</a>\n",
    "</td>\n",
    "<td>\n",
    "<a href=\"https://github.com/google/or-tools/blob/main/examples/python/chemical_balance_sat.py\"><img src=\"https://raw.githubusercontent.com/google/or-tools/main/tools/github_32px.png\"/>View source on GitHub</a>\n",
    "</td>\n",
    "</table>"
   ]
  },
  {
   "cell_type": "markdown",
   "id": "doc",
   "metadata": {},
   "source": [
    "First, you must install [ortools](https://pypi.org/project/ortools/) package in this colab."
   ]
  },
  {
   "cell_type": "code",
   "execution_count": null,
   "id": "install",
   "metadata": {},
   "outputs": [],
   "source": [
    "!pip install ortools"
   ]
  },
  {
   "cell_type": "code",
   "execution_count": null,
   "id": "code",
   "metadata": {},
   "outputs": [],
   "source": [
    "# Copyright 2010-2022 Google LLC\n",
    "# Licensed under the Apache License, Version 2.0 (the \"License\");\n",
    "# you may not use this file except in compliance with the License.\n",
    "# You may obtain a copy of the License at\n",
    "#\n",
    "#     http://www.apache.org/licenses/LICENSE-2.0\n",
    "#\n",
    "# Unless required by applicable law or agreed to in writing, software\n",
    "# distributed under the License is distributed on an \"AS IS\" BASIS,\n",
    "# WITHOUT WARRANTIES OR CONDITIONS OF ANY KIND, either express or implied.\n",
    "# See the License for the specific language governing permissions and\n",
    "# limitations under the License.\n",
    "\n",
    "# We are trying to group items in equal sized groups.\n",
    "# Each item has a color and a value. We want the sum of values of each group to\n",
    "# be as close to the average as possible.\n",
    "# Furthermore, if one color is an a group, at least k items with this color must\n",
    "# be in that group.\n",
    "\n",
    "\n",
    "from ortools.sat.python import cp_model\n",
    "import math\n",
    "\n",
    "# Data\n",
    "\n",
    "max_quantities = [[\"N_Total\", 1944], [\"P2O5\", 1166.4], [\"K2O\", 1822.5],\n",
    "                  [\"CaO\", 1458], [\"MgO\", 486], [\"Fe\", 9.7], [\"B\", 2.4]]\n",
    "\n",
    "chemical_set = [[\"A\", 0, 0, 510, 540, 0, 0, 0], [\"B\", 110, 0, 0, 0, 160, 0, 0],\n",
    "                [\"C\", 61, 149, 384, 0, 30, 1,\n",
    "                 0.2], [\"D\", 148, 70, 245, 0, 15, 1,\n",
    "                        0.2], [\"E\", 160, 158, 161, 0, 10, 1, 0.2]]\n",
    "\n",
    "num_products = len(max_quantities)\n",
    "all_products = range(num_products)\n",
    "\n",
    "num_sets = len(chemical_set)\n",
    "all_sets = range(num_sets)\n",
    "\n",
    "# Model\n",
    "\n",
    "model = cp_model.CpModel()\n",
    "\n",
    "# Scale quantities by 100.\n",
    "max_set = [\n",
    "    int(\n",
    "        math.ceil(\n",
    "            min(max_quantities[q][1] * 1000 / chemical_set[s][q + 1]\n",
    "                for q in all_products if chemical_set[s][q + 1] != 0)))\n",
    "    for s in all_sets\n",
    "]\n",
    "\n",
    "set_vars = [model.NewIntVar(0, max_set[s], \"set_%i\" % s) for s in all_sets]\n",
    "\n",
    "epsilon = model.NewIntVar(0, 10000000, \"epsilon\")\n",
    "\n",
    "for p in all_products:\n",
    "    model.Add(\n",
    "        sum(int(chemical_set[s][p + 1] * 10) * set_vars[s]\n",
    "            for s in all_sets) <= int(max_quantities[p][1] * 10000))\n",
    "    model.Add(\n",
    "        sum(int(chemical_set[s][p + 1] * 10) * set_vars[s]\n",
    "            for s in all_sets) >= int(max_quantities[p][1] * 10000) - epsilon)\n",
    "\n",
    "model.Minimize(epsilon)\n",
    "\n",
    "# Creates a solver and solves.\n",
    "solver = cp_model.CpSolver()\n",
    "status = solver.Solve(model)\n",
    "print(\"Status = %s\" % solver.StatusName(status))\n",
    "# The objective value of the solution.\n",
    "print(\"Optimal objective value = %f\" % (solver.ObjectiveValue() / 10000.0))\n",
    "\n",
    "for s in all_sets:\n",
    "    print(\n",
    "        \"  %s = %f\" % (chemical_set[s][0], solver.Value(set_vars[s]) / 1000.0),\n",
    "        end=\" \")\n",
    "    print()\n",
    "for p in all_products:\n",
    "    name = max_quantities[p][0]\n",
    "    max_quantity = max_quantities[p][1]\n",
    "    quantity = sum(\n",
    "        solver.Value(set_vars[s]) / 1000.0 * chemical_set[s][p + 1]\n",
    "        for s in all_sets)\n",
    "    print(\"%s: %f out of %f\" % (name, quantity, max_quantity))\n",
    "\n"
   ]
  }
 ],
 "metadata": {},
 "nbformat": 4,
 "nbformat_minor": 5
}
