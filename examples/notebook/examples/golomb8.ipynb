{
 "cells": [
  {
   "cell_type": "markdown",
   "id": "google",
   "metadata": {},
   "source": [
    "##### Copyright 2022 Google LLC."
   ]
  },
  {
   "cell_type": "markdown",
   "id": "apache",
   "metadata": {},
   "source": [
    "Licensed under the Apache License, Version 2.0 (the \"License\");\n",
    "you may not use this file except in compliance with the License.\n",
    "You may obtain a copy of the License at\n",
    "\n",
    "    http://www.apache.org/licenses/LICENSE-2.0\n",
    "\n",
    "Unless required by applicable law or agreed to in writing, software\n",
    "distributed under the License is distributed on an \"AS IS\" BASIS,\n",
    "WITHOUT WARRANTIES OR CONDITIONS OF ANY KIND, either express or implied.\n",
    "See the License for the specific language governing permissions and\n",
    "limitations under the License.\n"
   ]
  },
  {
   "cell_type": "markdown",
   "id": "basename",
   "metadata": {},
   "source": [
    "# golomb8"
   ]
  },
  {
   "cell_type": "markdown",
   "id": "link",
   "metadata": {},
   "source": [
    "<table align=\"left\">\n",
    "<td>\n",
    "<a href=\"https://colab.research.google.com/github/google/or-tools/blob/main/examples/notebook/examples/golomb8.ipynb\"><img src=\"https://raw.githubusercontent.com/google/or-tools/main/tools/colab_32px.png\"/>Run in Google Colab</a>\n",
    "</td>\n",
    "<td>\n",
    "<a href=\"https://github.com/google/or-tools/blob/main/examples/python/golomb8.py\"><img src=\"https://raw.githubusercontent.com/google/or-tools/main/tools/github_32px.png\"/>View source on GitHub</a>\n",
    "</td>\n",
    "</table>"
   ]
  },
  {
   "cell_type": "markdown",
   "id": "doc",
   "metadata": {},
   "source": [
    "First, you must install [ortools](https://pypi.org/project/ortools/) package in this colab."
   ]
  },
  {
   "cell_type": "code",
   "execution_count": null,
   "id": "install",
   "metadata": {},
   "outputs": [],
   "source": [
    "!pip install ortools"
   ]
  },
  {
   "cell_type": "markdown",
   "id": "description",
   "metadata": {},
   "source": [
    "This is the Golomb ruler problem.\n",
    "\n",
    "This model aims at maximizing radar interferences in a minimum space.\n",
    "It is known as the Golomb Ruler problem.\n",
    "\n",
    "The idea is to put marks on a rule such that all differences\n",
    "between all marks are all different. The objective is to minimize the length\n",
    "of the rule.\n",
    "see: https://en.wikipedia.org/wiki/Golomb_ruler\n",
    "\n"
   ]
  },
  {
   "cell_type": "code",
   "execution_count": null,
   "id": "code",
   "metadata": {},
   "outputs": [],
   "source": [
    "from ortools.constraint_solver import pywrapcp\n",
    "\n",
    "class FLAGS: pass\n",
    "\n",
    "FLAGS.order = 8 # Order of the ruler.\n",
    "\n",
    "def solve_golomb_ruler(order):\n",
    "    # Create the solver.\n",
    "    solver = pywrapcp.Solver('golomb ruler')\n",
    "\n",
    "    var_max = order * order\n",
    "    all_vars = list(range(0, order))\n",
    "\n",
    "    marks = [solver.IntVar(0, var_max, f'marks_{i}') for i in all_vars]\n",
    "\n",
    "    solver.Add(marks[0] == 0)\n",
    "    for i in range(order - 2):\n",
    "        solver.Add(marks[i + 1] > marks[i])\n",
    "\n",
    "    # We expand the creation of the diff array to avoid a pylint warning.\n",
    "    diffs = []\n",
    "    for i in range(order - 1):\n",
    "        for j in range(i + 1, order):\n",
    "            diffs.append(marks[j] - marks[i])\n",
    "    solver.Add(solver.AllDifferent(diffs))\n",
    "\n",
    "    # symmetry breaking\n",
    "    if order > 2:\n",
    "        solver.Add(marks[order - 1] - marks[order - 2] > marks[1] - marks[0])\n",
    "\n",
    "    # objective\n",
    "    objective = solver.Minimize(marks[order - 1], 1)\n",
    "\n",
    "    # Solve the model.\n",
    "    solution = solver.Assignment()\n",
    "    for mark in marks:\n",
    "        solution.Add(mark)\n",
    "    for diff in diffs:\n",
    "        solution.Add(diff)\n",
    "    collector = solver.AllSolutionCollector(solution)\n",
    "\n",
    "    solver.Solve(\n",
    "        solver.Phase(\n",
    "            marks,\n",
    "            solver.CHOOSE_FIRST_UNBOUND,\n",
    "            solver.ASSIGN_MIN_VALUE),\n",
    "        [objective, collector])\n",
    "\n",
    "    # Print solution.\n",
    "    for i in range(0, collector.SolutionCount()):\n",
    "        obj_value = collector.Value(i, marks[order - 1])\n",
    "        print(f'Solution #{i}: value = {obj_value}')\n",
    "        for idx, var in enumerate(marks):\n",
    "            print(f'mark[{idx}]: {collector.Value(i, var)}')\n",
    "        intervals = [collector.Value(i, diff) for diff in diffs]\n",
    "        intervals.sort()\n",
    "        print(f'intervals: {intervals}')\n",
    "\n",
    "        print('Statistics:')\n",
    "        print(f'- conflicts: {collector.Failures(i)}')\n",
    "        print(f'- branches : {collector.Branches(i)}')\n",
    "        print(f'- wall time: {collector.WallTime(i)}ms\\n')\n",
    "\n",
    "    print('Global Statistics:')\n",
    "    print(f'- total conflicts: {solver.Failures()}')\n",
    "    print(f'- total branches : {solver.Branches()}')\n",
    "    print(f'- total wall time: {solver.WallTime()}ms\\n')\n",
    "\n",
    "\n",
    "def main(_=None):\n",
    "    solve_golomb_ruler(FLAGS.order)\n",
    "\n",
    "\n",
    "main()\n",
    "\n"
   ]
  }
 ],
 "metadata": {},
 "nbformat": 4,
 "nbformat_minor": 5
}
