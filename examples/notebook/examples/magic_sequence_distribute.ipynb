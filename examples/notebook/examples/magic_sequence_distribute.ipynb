{
 "cells": [
  {
   "cell_type": "markdown",
   "id": "google",
   "metadata": {},
   "source": [
    "##### Copyright 2022 Google LLC."
   ]
  },
  {
   "cell_type": "markdown",
   "id": "apache",
   "metadata": {},
   "source": [
    "Licensed under the Apache License, Version 2.0 (the \"License\");\n",
    "you may not use this file except in compliance with the License.\n",
    "You may obtain a copy of the License at\n",
    "\n",
    "    http://www.apache.org/licenses/LICENSE-2.0\n",
    "\n",
    "Unless required by applicable law or agreed to in writing, software\n",
    "distributed under the License is distributed on an \"AS IS\" BASIS,\n",
    "WITHOUT WARRANTIES OR CONDITIONS OF ANY KIND, either express or implied.\n",
    "See the License for the specific language governing permissions and\n",
    "limitations under the License.\n"
   ]
  },
  {
   "cell_type": "markdown",
   "id": "basename",
   "metadata": {},
   "source": [
    "# magic_sequence_distribute"
   ]
  },
  {
   "cell_type": "markdown",
   "id": "link",
   "metadata": {},
   "source": [
    "<table align=\"left\">\n",
    "<td>\n",
    "<a href=\"https://colab.research.google.com/github/google/or-tools/blob/main/examples/notebook/examples/magic_sequence_distribute.ipynb\"><img src=\"https://raw.githubusercontent.com/google/or-tools/main/tools/colab_32px.png\"/>Run in Google Colab</a>\n",
    "</td>\n",
    "<td>\n",
    "<a href=\"https://github.com/google/or-tools/blob/main/examples/python/magic_sequence_distribute.py\"><img src=\"https://raw.githubusercontent.com/google/or-tools/main/tools/github_32px.png\"/>View source on GitHub</a>\n",
    "</td>\n",
    "</table>"
   ]
  },
  {
   "cell_type": "markdown",
   "id": "doc",
   "metadata": {},
   "source": [
    "First, you must install [ortools](https://pypi.org/project/ortools/) package in this colab."
   ]
  },
  {
   "cell_type": "code",
   "execution_count": null,
   "id": "install",
   "metadata": {},
   "outputs": [],
   "source": [
    "!pip install ortools"
   ]
  },
  {
   "cell_type": "markdown",
   "id": "description",
   "metadata": {},
   "source": [
    "Magic sequence problem.\n",
    "\n",
    "This models aims at building a sequence of numbers such that the number of\n",
    "occurrences of i in this sequence is equal to the value of the ith number.\n",
    "It uses an aggregated formulation of the count expression called\n",
    "distribute().\n",
    "\n",
    "Usage: python magic_sequence_distribute.py NUMBER\n",
    "\n"
   ]
  },
  {
   "cell_type": "code",
   "execution_count": null,
   "id": "code",
   "metadata": {},
   "outputs": [],
   "source": [
    "from ortools.constraint_solver import pywrapcp\n",
    "\n",
    "class FLAGS: pass\n",
    "\n",
    "def main(argv):\n",
    "    # Create the solver.\n",
    "    solver = pywrapcp.Solver('magic sequence')\n",
    "\n",
    "    # Create an array of IntVars to hold the answers.\n",
    "    size = int(argv[1]) if len(argv) > 1 else 100\n",
    "    all_values = list(range(0, size))\n",
    "    all_vars = [solver.IntVar(0, size, 'vars_%d' % i) for i in all_values]\n",
    "\n",
    "    # The number of variables equal to j shall be the value of all_vars[j].\n",
    "    solver.Add(solver.Distribute(all_vars, all_values, all_vars))\n",
    "\n",
    "    # The sum of all the values shall be equal to the size.\n",
    "    # (This constraint is redundant, but speeds up the search.)\n",
    "    solver.Add(solver.Sum(all_vars) == size)\n",
    "\n",
    "    solver.NewSearch(\n",
    "        solver.Phase(all_vars, solver.CHOOSE_FIRST_UNBOUND,\n",
    "                     solver.ASSIGN_MIN_VALUE))\n",
    "    solver.NextSolution()\n",
    "    print(all_vars)\n",
    "    solver.EndSearch()\n",
    "\n",
    "\n",
    "main()\n",
    "\n"
   ]
  }
 ],
 "metadata": {},
 "nbformat": 4,
 "nbformat_minor": 5
}
