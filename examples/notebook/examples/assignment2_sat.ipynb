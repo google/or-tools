{
 "cells": [
  {
   "cell_type": "markdown",
   "id": "google",
   "metadata": {},
   "source": [
    "##### Copyright 2022 Google LLC."
   ]
  },
  {
   "cell_type": "markdown",
   "id": "apache",
   "metadata": {},
   "source": [
    "Licensed under the Apache License, Version 2.0 (the \"License\");\n",
    "you may not use this file except in compliance with the License.\n",
    "You may obtain a copy of the License at\n",
    "\n",
    "    http://www.apache.org/licenses/LICENSE-2.0\n",
    "\n",
    "Unless required by applicable law or agreed to in writing, software\n",
    "distributed under the License is distributed on an \"AS IS\" BASIS,\n",
    "WITHOUT WARRANTIES OR CONDITIONS OF ANY KIND, either express or implied.\n",
    "See the License for the specific language governing permissions and\n",
    "limitations under the License.\n"
   ]
  },
  {
   "cell_type": "markdown",
   "id": "basename",
   "metadata": {},
   "source": [
    "# assignment2_sat"
   ]
  },
  {
   "cell_type": "markdown",
   "id": "link",
   "metadata": {},
   "source": [
    "<table align=\"left\">\n",
    "<td>\n",
    "<a href=\"https://colab.research.google.com/github/google/or-tools/blob/main/examples/notebook/examples/assignment2_sat.ipynb\"><img src=\"https://raw.githubusercontent.com/google/or-tools/main/tools/colab_32px.png\"/>Run in Google Colab</a>\n",
    "</td>\n",
    "<td>\n",
    "<a href=\"https://github.com/google/or-tools/blob/main/examples/python/assignment2_sat.py\"><img src=\"https://raw.githubusercontent.com/google/or-tools/main/tools/github_32px.png\"/>View source on GitHub</a>\n",
    "</td>\n",
    "</table>"
   ]
  },
  {
   "cell_type": "markdown",
   "id": "doc",
   "metadata": {},
   "source": [
    "First, you must install [ortools](https://pypi.org/project/ortools/) package in this colab."
   ]
  },
  {
   "cell_type": "code",
   "execution_count": null,
   "id": "install",
   "metadata": {},
   "outputs": [],
   "source": [
    "!pip install ortools"
   ]
  },
  {
   "cell_type": "code",
   "execution_count": null,
   "id": "code",
   "metadata": {},
   "outputs": [],
   "source": [
    "# Copyright 2010-2022 Google LLC\n",
    "# Licensed under the Apache License, Version 2.0 (the \"License\");\n",
    "# you may not use this file except in compliance with the License.\n",
    "# You may obtain a copy of the License at\n",
    "#\n",
    "#     http://www.apache.org/licenses/LICENSE-2.0\n",
    "#\n",
    "# Unless required by applicable law or agreed to in writing, software\n",
    "# distributed under the License is distributed on an \"AS IS\" BASIS,\n",
    "# WITHOUT WARRANTIES OR CONDITIONS OF ANY KIND, either express or implied.\n",
    "# See the License for the specific language governing permissions and\n",
    "# limitations under the License.\n",
    "\n",
    "from ortools.sat.python import cp_model\n",
    "\n",
    "\n",
    "def main():\n",
    "    # Instantiate a cp model.\n",
    "    cost = [[90, 76, 75, 70, 50, 74, 12, 68], [35, 85, 55, 65, 48, 101, 70, 83],\n",
    "            [125, 95, 90, 105, 59,\n",
    "             120, 36, 73], [45, 110, 95, 115, 104, 83, 37,\n",
    "                            71], [60, 105, 80, 75, 59, 62, 93,\n",
    "                                  88], [45, 65, 110, 95, 47, 31, 81, 34],\n",
    "            [38, 51, 107, 41, 69, 99, 115,\n",
    "             48], [47, 85, 57, 71, 92, 77, 109,\n",
    "                   36], [39, 63, 97, 49, 118, 56,\n",
    "                         92, 61], [47, 101, 71, 60, 88, 109, 52, 90]]\n",
    "\n",
    "    sizes = [10, 7, 3, 12, 15, 4, 11, 5]\n",
    "    total_size_max = 15\n",
    "    num_workers = len(cost)\n",
    "    num_tasks = len(cost[1])\n",
    "    all_workers = range(num_workers)\n",
    "    all_tasks = range(num_tasks)\n",
    "\n",
    "    model = cp_model.CpModel()\n",
    "    # Variables\n",
    "    total_cost = model.NewIntVar(0, 1000, 'total_cost')\n",
    "    x = []\n",
    "    for i in all_workers:\n",
    "        t = []\n",
    "        for j in all_tasks:\n",
    "            t.append(model.NewBoolVar('x[%i,%i]' % (i, j)))\n",
    "        x.append(t)\n",
    "\n",
    "    # Constraints\n",
    "\n",
    "    # Each task is assigned to at least one worker.\n",
    "    [model.Add(sum(x[i][j] for i in all_workers) >= 1) for j in all_tasks]\n",
    "\n",
    "    # Total task size for each worker is at most total_size_max\n",
    "    for i in all_workers:\n",
    "        model.Add(sum(sizes[j] * x[i][j] for j in all_tasks) <= total_size_max)\n",
    "\n",
    "    # Total cost\n",
    "    model.Add(total_cost == sum(x[i][j] * cost[i][j]\n",
    "                                for j in all_tasks for i in all_workers))\n",
    "    model.Minimize(total_cost)\n",
    "\n",
    "    solver = cp_model.CpSolver()\n",
    "    status = solver.Solve(model)\n",
    "\n",
    "    if status == cp_model.OPTIMAL:\n",
    "        print('Total cost = %i' % solver.ObjectiveValue())\n",
    "        print()\n",
    "        for i in all_workers:\n",
    "            for j in all_tasks:\n",
    "                if solver.Value(x[i][j]) == 1:\n",
    "                    print('Worker ', i, ' assigned to task ', j, '  Cost = ',\n",
    "                          cost[i][j])\n",
    "\n",
    "        print()\n",
    "\n",
    "    print('Statistics')\n",
    "    print('  - conflicts : %i' % solver.NumConflicts())\n",
    "    print('  - branches  : %i' % solver.NumBranches())\n",
    "    print('  - wall time : %f s' % solver.WallTime())\n",
    "\n",
    "\n",
    "main()\n",
    "\n"
   ]
  }
 ],
 "metadata": {},
 "nbformat": 4,
 "nbformat_minor": 5
}
