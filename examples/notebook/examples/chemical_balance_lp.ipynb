{
 "cells": [
  {
   "cell_type": "markdown",
   "id": "google",
   "metadata": {},
   "source": [
    "##### Copyright 2024 Google LLC."
   ]
  },
  {
   "cell_type": "markdown",
   "id": "apache",
   "metadata": {},
   "source": [
    "Licensed under the Apache License, Version 2.0 (the \"License\");\n",
    "you may not use this file except in compliance with the License.\n",
    "You may obtain a copy of the License at\n",
    "\n",
    "    http://www.apache.org/licenses/LICENSE-2.0\n",
    "\n",
    "Unless required by applicable law or agreed to in writing, software\n",
    "distributed under the License is distributed on an \"AS IS\" BASIS,\n",
    "WITHOUT WARRANTIES OR CONDITIONS OF ANY KIND, either express or implied.\n",
    "See the License for the specific language governing permissions and\n",
    "limitations under the License.\n"
   ]
  },
  {
   "cell_type": "markdown",
   "id": "basename",
   "metadata": {},
   "source": [
    "# chemical_balance_lp"
   ]
  },
  {
   "cell_type": "markdown",
   "id": "link",
   "metadata": {},
   "source": [
    "<table align=\"left\">\n",
    "<td>\n",
    "<a href=\"https://colab.research.google.com/github/google/or-tools/blob/main/examples/notebook/examples/chemical_balance_lp.ipynb\"><img src=\"https://raw.githubusercontent.com/google/or-tools/main/tools/colab_32px.png\"/>Run in Google Colab</a>\n",
    "</td>\n",
    "<td>\n",
    "<a href=\"https://github.com/google/or-tools/blob/main/examples/python/chemical_balance_lp.py\"><img src=\"https://raw.githubusercontent.com/google/or-tools/main/tools/github_32px.png\"/>View source on GitHub</a>\n",
    "</td>\n",
    "</table>"
   ]
  },
  {
   "cell_type": "markdown",
   "id": "doc",
   "metadata": {},
   "source": [
    "First, you must install [ortools](https://pypi.org/project/ortools/) package in this colab."
   ]
  },
  {
   "cell_type": "code",
   "execution_count": null,
   "id": "install",
   "metadata": {},
   "outputs": [],
   "source": [
    "%pip install ortools"
   ]
  },
  {
   "cell_type": "markdown",
   "id": "description",
   "metadata": {},
   "source": [
    "We are trying to group items in equal sized groups.\n",
    "Each item has a color and a value. We want the sum of values of each group to\n",
    "be as close to the average as possible.\n",
    "Furthermore, if one color is an a group, at least k items with this color must\n",
    "be in that group.\n"
   ]
  },
  {
   "cell_type": "code",
   "execution_count": null,
   "id": "code",
   "metadata": {},
   "outputs": [],
   "source": [
    "from ortools.linear_solver import pywraplp\n",
    "\n",
    "# Data\n",
    "\n",
    "max_quantities = [\n",
    "    [\"N_Total\", 1944],\n",
    "    [\"P2O5\", 1166.4],\n",
    "    [\"K2O\", 1822.5],\n",
    "    [\"CaO\", 1458],\n",
    "    [\"MgO\", 486],\n",
    "    [\"Fe\", 9.7],\n",
    "    [\"B\", 2.4],\n",
    "]\n",
    "\n",
    "chemical_set = [\n",
    "    [\"A\", 0, 0, 510, 540, 0, 0, 0],\n",
    "    [\"B\", 110, 0, 0, 0, 160, 0, 0],\n",
    "    [\"C\", 61, 149, 384, 0, 30, 1, 0.2],\n",
    "    [\"D\", 148, 70, 245, 0, 15, 1, 0.2],\n",
    "    [\"E\", 160, 158, 161, 0, 10, 1, 0.2],\n",
    "]\n",
    "\n",
    "NUM_PRODUCTS = len(max_quantities)\n",
    "ALL_PRODUCTS = range(NUM_PRODUCTS)\n",
    "\n",
    "NUM_SETS = len(chemical_set)\n",
    "ALL_SETS = range(NUM_SETS)\n",
    "\n",
    "# Model\n",
    "\n",
    "max_set = [\n",
    "    min(max_quantities[q][1] / chemical_set[s][q + 1] for q in ALL_PRODUCTS\n",
    "        if chemical_set[s][q + 1] != 0.0) for s in ALL_SETS\n",
    "]\n",
    "\n",
    "solver = pywraplp.Solver(\"chemical_set_lp\",\n",
    "                         pywraplp.Solver.GLOP_LINEAR_PROGRAMMING)\n",
    "\n",
    "set_vars = [solver.NumVar(0, max_set[s], f\"set_{s}\") for s in ALL_SETS]\n",
    "\n",
    "epsilon = solver.NumVar(0, 1000, \"epsilon\")\n",
    "\n",
    "for p in ALL_PRODUCTS:\n",
    "    solver.Add(\n",
    "        sum(chemical_set[s][p + 1] * set_vars[s]\n",
    "            for s in ALL_SETS) <= max_quantities[p][1])\n",
    "    solver.Add(\n",
    "        sum(chemical_set[s][p + 1] * set_vars[s]\n",
    "            for s in ALL_SETS) >= max_quantities[p][1] - epsilon)\n",
    "\n",
    "solver.Minimize(epsilon)\n",
    "\n",
    "print(f\"Number of variables = {solver.NumVariables()}\")\n",
    "print(f\"Number of constraints = {solver.NumConstraints()}\")\n",
    "\n",
    "result_status = solver.Solve()\n",
    "\n",
    "# The problem has an optimal solution.\n",
    "assert result_status == pywraplp.Solver.OPTIMAL\n",
    "\n",
    "assert solver.VerifySolution(1e-7, True)\n",
    "\n",
    "print(f\"Problem solved in {solver.wall_time()} milliseconds\")\n",
    "\n",
    "# The objective value of the solution.\n",
    "print(f\"Optimal objective value = {solver.Objective().Value()}\")\n",
    "\n",
    "for s in ALL_SETS:\n",
    "    print(f\"  {chemical_set[s][0]} = {set_vars[s].solution_value()}\", end=\" \")\n",
    "    print()\n",
    "for p in ALL_PRODUCTS:\n",
    "    name = max_quantities[p][0]\n",
    "    max_quantity = max_quantities[p][1]\n",
    "    quantity = sum(set_vars[s].solution_value() * chemical_set[s][p + 1]\n",
    "                   for s in ALL_SETS)\n",
    "    print(f\"{name}: {quantity} out of {max_quantity}\")\n",
    "\n"
   ]
  }
 ],
 "metadata": {},
 "nbformat": 4,
 "nbformat_minor": 5
}
