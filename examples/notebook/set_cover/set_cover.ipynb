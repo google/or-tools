{
 "cells": [
  {
   "cell_type": "markdown",
   "id": "google",
   "metadata": {},
   "source": [
    "##### Copyright 2025 Google LLC."
   ]
  },
  {
   "cell_type": "markdown",
   "id": "apache",
   "metadata": {},
   "source": [
    "Licensed under the Apache License, Version 2.0 (the \"License\");\n",
    "you may not use this file except in compliance with the License.\n",
    "You may obtain a copy of the License at\n",
    "\n",
    "    http://www.apache.org/licenses/LICENSE-2.0\n",
    "\n",
    "Unless required by applicable law or agreed to in writing, software\n",
    "distributed under the License is distributed on an \"AS IS\" BASIS,\n",
    "WITHOUT WARRANTIES OR CONDITIONS OF ANY KIND, either express or implied.\n",
    "See the License for the specific language governing permissions and\n",
    "limitations under the License.\n"
   ]
  },
  {
   "cell_type": "markdown",
   "id": "basename",
   "metadata": {},
   "source": [
    "# set_cover"
   ]
  },
  {
   "cell_type": "markdown",
   "id": "link",
   "metadata": {},
   "source": [
    "<table align=\"left\">\n",
    "<td>\n",
    "<a href=\"https://colab.research.google.com/github/google/or-tools/blob/main/examples/notebook/set_cover/set_cover.ipynb\"><img src=\"https://raw.githubusercontent.com/google/or-tools/main/tools/colab_32px.png\"/>Run in Google Colab</a>\n",
    "</td>\n",
    "<td>\n",
    "<a href=\"https://github.com/google/or-tools/blob/main/ortools/set_cover/samples/set_cover.py\"><img src=\"https://raw.githubusercontent.com/google/or-tools/main/tools/github_32px.png\"/>View source on GitHub</a>\n",
    "</td>\n",
    "</table>"
   ]
  },
  {
   "cell_type": "markdown",
   "id": "doc",
   "metadata": {},
   "source": [
    "First, you must install [ortools](https://pypi.org/project/ortools/) package in this colab."
   ]
  },
  {
   "cell_type": "code",
   "execution_count": null,
   "id": "install",
   "metadata": {},
   "outputs": [],
   "source": [
    "%pip install ortools"
   ]
  },
  {
   "cell_type": "markdown",
   "id": "description",
   "metadata": {},
   "source": [
    "\n",
    "A simple set-covering problem.\n"
   ]
  },
  {
   "cell_type": "code",
   "execution_count": null,
   "id": "code",
   "metadata": {},
   "outputs": [],
   "source": [
    "from ortools.set_cover.python import set_cover\n",
    "\n",
    "\n",
    "def main():\n",
    "    model = set_cover.SetCoverModel()\n",
    "    model.add_empty_subset(2.0)\n",
    "    model.add_element_to_last_subset(0)\n",
    "    model.add_empty_subset(2.0)\n",
    "    model.add_element_to_last_subset(1)\n",
    "    model.add_empty_subset(1.0)\n",
    "    model.add_element_to_last_subset(0)\n",
    "    model.add_element_to_last_subset(1)\n",
    "\n",
    "    inv = set_cover.SetCoverInvariant(model)\n",
    "    greedy = set_cover.GreedySolutionGenerator(inv)\n",
    "    has_found = greedy.next_solution()\n",
    "    if not has_found:\n",
    "        print(\"No solution found by the greedy heuristic.\")\n",
    "        return\n",
    "    solution = inv.export_solution_as_proto()\n",
    "\n",
    "    print(f\"Total cost: {solution.cost}\")  # == inv.cost()\n",
    "    print(f\"Total number of selected subsets: {solution.num_subsets}\")\n",
    "    print(\"Chosen subsets:\")\n",
    "    for subset in solution.subset:\n",
    "        print(f\"  {subset}\")\n",
    "\n",
    "\n",
    "main()\n",
    "\n"
   ]
  }
 ],
 "metadata": {
  "language_info": {
   "name": "python"
  }
 },
 "nbformat": 4,
 "nbformat_minor": 5
}
