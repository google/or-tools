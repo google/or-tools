{
 "cells": [
  {
   "cell_type": "markdown",
   "id": "google",
   "metadata": {},
   "source": [
    "##### Copyright 2022 Google LLC."
   ]
  },
  {
   "cell_type": "markdown",
   "id": "apache",
   "metadata": {},
   "source": [
    "Licensed under the Apache License, Version 2.0 (the \"License\");\n",
    "you may not use this file except in compliance with the License.\n",
    "You may obtain a copy of the License at\n",
    "\n",
    "    http://www.apache.org/licenses/LICENSE-2.0\n",
    "\n",
    "Unless required by applicable law or agreed to in writing, software\n",
    "distributed under the License is distributed on an \"AS IS\" BASIS,\n",
    "WITHOUT WARRANTIES OR CONDITIONS OF ANY KIND, either express or implied.\n",
    "See the License for the specific language governing permissions and\n",
    "limitations under the License.\n"
   ]
  },
  {
   "cell_type": "markdown",
   "id": "basename",
   "metadata": {},
   "source": [
    "# simple_lp_program_mb"
   ]
  },
  {
   "cell_type": "markdown",
   "id": "link",
   "metadata": {},
   "source": [
    "<table align=\"left\">\n",
    "<td>\n",
    "<a href=\"https://colab.research.google.com/github/google/or-tools/blob/main/examples/notebook/model_builder/simple_lp_program_mb.ipynb\"><img src=\"https://raw.githubusercontent.com/google/or-tools/main/tools/colab_32px.png\"/>Run in Google Colab</a>\n",
    "</td>\n",
    "<td>\n",
    "<a href=\"https://github.com/google/or-tools/blob/main/ortools/model_builder/samples/simple_lp_program_mb.py\"><img src=\"https://raw.githubusercontent.com/google/or-tools/main/tools/github_32px.png\"/>View source on GitHub</a>\n",
    "</td>\n",
    "</table>"
   ]
  },
  {
   "cell_type": "markdown",
   "id": "doc",
   "metadata": {},
   "source": [
    "First, you must install [ortools](https://pypi.org/project/ortools/) package in this colab."
   ]
  },
  {
   "cell_type": "code",
   "execution_count": null,
   "id": "install",
   "metadata": {},
   "outputs": [],
   "source": [
    "!pip install ortools"
   ]
  },
  {
   "cell_type": "markdown",
   "id": "description",
   "metadata": {},
   "source": [
    "\n",
    "Minimal example to call the GLOP solver using model_builder."
   ]
  },
  {
   "cell_type": "code",
   "execution_count": null,
   "id": "code",
   "metadata": {},
   "outputs": [],
   "source": [
    "import math\n",
    "\n",
    "from ortools.model_builder.python import model_builder\n",
    "\n",
    "\n",
    "def main():\n",
    "    # Create the model.\n",
    "    model = model_builder.ModelBuilder()\n",
    "\n",
    "    # Create the variables x and y.\n",
    "    x = model.new_num_var(0.0, math.inf, 'x')\n",
    "    y = model.new_num_var(0.0, math.inf, 'y')\n",
    "\n",
    "    print('Number of variables =', model.num_variables)\n",
    "\n",
    "    # x + 7 * y <= 17.5.\n",
    "    ct = model.add(x + 7 * y <= 17.5)\n",
    "\n",
    "    # x <= 3.5.\n",
    "    model.add(x <= 3.5)\n",
    "\n",
    "    print('Number of constraints =', model.num_constraints)\n",
    "\n",
    "    # Maximize x + 10 * y.\n",
    "    model.maximize(x + 10 * y)\n",
    "\n",
    "    # Create the solver with the GLOP backend, and solve the model.\n",
    "    solver = model_builder.ModelSolver('glop')\n",
    "    status = solver.solve(model)\n",
    "\n",
    "    if status == model_builder.SolveStatus.OPTIMAL:\n",
    "        print('Solution:')\n",
    "        print('Objective value =', solver.objective_value)\n",
    "        print('x =', solver.value(x))\n",
    "        print('y =', solver.value(y))\n",
    "\n",
    "        print('dual_value(ct) =', solver.dual_value(ct))\n",
    "        print('reduced_cost(x) =', solver.reduced_cost(x))\n",
    "    else:\n",
    "        print('The problem does not have an optimal solution.')\n",
    "\n",
    "    print('\\nAdvanced usage:')\n",
    "    print('Problem solved in %f seconds' % solver.wall_time)\n",
    "\n",
    "\n",
    "main()\n",
    "\n"
   ]
  }
 ],
 "metadata": {},
 "nbformat": 4,
 "nbformat_minor": 5
}
