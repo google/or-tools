{
 "cells": [
  {
   "cell_type": "markdown",
   "id": "google",
   "metadata": {},
   "source": [
    "##### Copyright 2022 Google LLC."
   ]
  },
  {
   "cell_type": "markdown",
   "id": "apache",
   "metadata": {},
   "source": [
    "Licensed under the Apache License, Version 2.0 (the \"License\");\n",
    "you may not use this file except in compliance with the License.\n",
    "You may obtain a copy of the License at\n",
    "\n",
    "    http://www.apache.org/licenses/LICENSE-2.0\n",
    "\n",
    "Unless required by applicable law or agreed to in writing, software\n",
    "distributed under the License is distributed on an \"AS IS\" BASIS,\n",
    "WITHOUT WARRANTIES OR CONDITIONS OF ANY KIND, either express or implied.\n",
    "See the License for the specific language governing permissions and\n",
    "limitations under the License.\n"
   ]
  },
  {
   "cell_type": "markdown",
   "id": "basename",
   "metadata": {},
   "source": [
    "# scheduling_with_calendar_sample_sat"
   ]
  },
  {
   "cell_type": "markdown",
   "id": "link",
   "metadata": {},
   "source": [
    "<table align=\"left\">\n",
    "<td>\n",
    "<a href=\"https://colab.research.google.com/github/google/or-tools/blob/main/examples/notebook/sat/scheduling_with_calendar_sample_sat.ipynb\"><img src=\"https://raw.githubusercontent.com/google/or-tools/main/tools/colab_32px.png\"/>Run in Google Colab</a>\n",
    "</td>\n",
    "<td>\n",
    "<a href=\"https://github.com/google/or-tools/blob/main/ortools/sat/samples/scheduling_with_calendar_sample_sat.py\"><img src=\"https://raw.githubusercontent.com/google/or-tools/main/tools/github_32px.png\"/>View source on GitHub</a>\n",
    "</td>\n",
    "</table>"
   ]
  },
  {
   "cell_type": "markdown",
   "id": "doc",
   "metadata": {},
   "source": [
    "First, you must install [ortools](https://pypi.org/project/ortools/) package in this colab."
   ]
  },
  {
   "cell_type": "code",
   "execution_count": null,
   "id": "install",
   "metadata": {},
   "outputs": [],
   "source": [
    "!pip install ortools"
   ]
  },
  {
   "cell_type": "markdown",
   "id": "description",
   "metadata": {},
   "source": [
    "Code sample to demonstrate how an interval can span across a break.\n"
   ]
  },
  {
   "cell_type": "code",
   "execution_count": null,
   "id": "code",
   "metadata": {},
   "outputs": [],
   "source": [
    "from ortools.sat.python import cp_model\n",
    "\n",
    "\n",
    "class VarArraySolutionPrinter(cp_model.CpSolverSolutionCallback):\n",
    "    \"\"\"Print intermediate solutions.\"\"\"\n",
    "\n",
    "    def __init__(self, variables):\n",
    "        cp_model.CpSolverSolutionCallback.__init__(self)\n",
    "        self.__variables = variables\n",
    "        self.__solution_count = 0\n",
    "\n",
    "    def on_solution_callback(self):\n",
    "        self.__solution_count += 1\n",
    "        for v in self.__variables:\n",
    "            print('%s=%i' % (v, self.Value(v)), end=' ')\n",
    "        print()\n",
    "\n",
    "    def solution_count(self):\n",
    "        return self.__solution_count\n",
    "\n",
    "\n",
    "def SchedulingWithCalendarSampleSat():\n",
    "    \"\"\"Interval spanning across a lunch break.\"\"\"\n",
    "    model = cp_model.CpModel()\n",
    "\n",
    "    # The data is the following:\n",
    "    #   Work starts at 8h, ends at 18h, with a lunch break between 13h and 14h.\n",
    "    #   We need to schedule a task that needs 3 hours of processing time.\n",
    "    #   Total duration can be 3 or 4 (if it spans the lunch break).\n",
    "    #\n",
    "    # Because the duration is at least 3 hours, work cannot start after 15h.\n",
    "    # Because of the break, work cannot start at 13h.\n",
    "\n",
    "    start = model.NewIntVarFromDomain(\n",
    "        cp_model.Domain.FromIntervals([(8, 12), (14, 15)]), 'start')\n",
    "    duration = model.NewIntVar(3, 4, 'duration')\n",
    "    end = model.NewIntVar(8, 18, 'end')\n",
    "    unused_interval = model.NewIntervalVar(start, duration, end, 'interval')\n",
    "\n",
    "    # We have 2 states (spanning across lunch or not)\n",
    "    across = model.NewBoolVar('across')\n",
    "    non_spanning_hours = cp_model.Domain.FromValues([8, 9, 10, 14, 15])\n",
    "    model.AddLinearExpressionInDomain(start, non_spanning_hours).OnlyEnforceIf(\n",
    "        across.Not())\n",
    "    model.AddLinearConstraint(start, 11, 12).OnlyEnforceIf(across)\n",
    "    model.Add(duration == 3).OnlyEnforceIf(across.Not())\n",
    "    model.Add(duration == 4).OnlyEnforceIf(across)\n",
    "\n",
    "    # Search for x values in increasing order.\n",
    "    model.AddDecisionStrategy([start], cp_model.CHOOSE_FIRST,\n",
    "                              cp_model.SELECT_MIN_VALUE)\n",
    "\n",
    "    # Create a solver and solve with a fixed search.\n",
    "    solver = cp_model.CpSolver()\n",
    "\n",
    "    # Force the solver to follow the decision strategy exactly.\n",
    "    solver.parameters.search_branching = cp_model.FIXED_SEARCH\n",
    "    # Enumerate all solutions.\n",
    "    solver.parameters.enumerate_all_solutions = True\n",
    "\n",
    "    # Search and print all solutions.\n",
    "    solution_printer = VarArraySolutionPrinter([start, duration, across])\n",
    "    solver.Solve(model, solution_printer)\n",
    "\n",
    "\n",
    "SchedulingWithCalendarSampleSat()\n",
    "\n"
   ]
  }
 ],
 "metadata": {},
 "nbformat": 4,
 "nbformat_minor": 5
}
