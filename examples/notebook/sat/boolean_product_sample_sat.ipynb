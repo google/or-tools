{
 "cells": [
  {
   "cell_type": "markdown",
   "id": "google",
   "metadata": {},
   "source": [
    "##### Copyright 2024 Google LLC."
   ]
  },
  {
   "cell_type": "markdown",
   "id": "apache",
   "metadata": {},
   "source": [
    "Licensed under the Apache License, Version 2.0 (the \"License\");\n",
    "you may not use this file except in compliance with the License.\n",
    "You may obtain a copy of the License at\n",
    "\n",
    "    http://www.apache.org/licenses/LICENSE-2.0\n",
    "\n",
    "Unless required by applicable law or agreed to in writing, software\n",
    "distributed under the License is distributed on an \"AS IS\" BASIS,\n",
    "WITHOUT WARRANTIES OR CONDITIONS OF ANY KIND, either express or implied.\n",
    "See the License for the specific language governing permissions and\n",
    "limitations under the License.\n"
   ]
  },
  {
   "cell_type": "markdown",
   "id": "basename",
   "metadata": {},
   "source": [
    "# boolean_product_sample_sat"
   ]
  },
  {
   "cell_type": "markdown",
   "id": "link",
   "metadata": {},
   "source": [
    "<table align=\"left\">\n",
    "<td>\n",
    "<a href=\"https://colab.research.google.com/github/google/or-tools/blob/main/examples/notebook/sat/boolean_product_sample_sat.ipynb\"><img src=\"https://raw.githubusercontent.com/google/or-tools/main/tools/colab_32px.png\"/>Run in Google Colab</a>\n",
    "</td>\n",
    "<td>\n",
    "<a href=\"https://github.com/google/or-tools/blob/main/ortools/sat/samples/boolean_product_sample_sat.py\"><img src=\"https://raw.githubusercontent.com/google/or-tools/main/tools/github_32px.png\"/>View source on GitHub</a>\n",
    "</td>\n",
    "</table>"
   ]
  },
  {
   "cell_type": "markdown",
   "id": "doc",
   "metadata": {},
   "source": [
    "First, you must install [ortools](https://pypi.org/project/ortools/) package in this colab."
   ]
  },
  {
   "cell_type": "code",
   "execution_count": null,
   "id": "install",
   "metadata": {},
   "outputs": [],
   "source": [
    "%pip install ortools"
   ]
  },
  {
   "cell_type": "markdown",
   "id": "description",
   "metadata": {},
   "source": [
    "\n",
    "Code sample that encodes the product of two Boolean variables.\n",
    "\n"
   ]
  },
  {
   "cell_type": "code",
   "execution_count": null,
   "id": "code",
   "metadata": {},
   "outputs": [],
   "source": [
    "from ortools.sat.python import cp_model\n",
    "\n",
    "\n",
    "def boolean_product_sample_sat():\n",
    "    \"\"\"Encoding of the product of two Boolean variables.\n",
    "\n",
    "    p == x * y, which is the same as p <=> x and y\n",
    "    \"\"\"\n",
    "    model = cp_model.CpModel()\n",
    "    x = model.new_bool_var(\"x\")\n",
    "    y = model.new_bool_var(\"y\")\n",
    "    p = model.new_bool_var(\"p\")\n",
    "\n",
    "    # x and y implies p, rewrite as not(x and y) or p.\n",
    "    model.add_bool_or(~x, ~y, p)\n",
    "\n",
    "    # p implies x and y, expanded into two implications.\n",
    "    model.add_implication(p, x)\n",
    "    model.add_implication(p, y)\n",
    "\n",
    "    # Create a solver and solve.\n",
    "    solver = cp_model.CpSolver()\n",
    "    solution_printer = cp_model.VarArraySolutionPrinter([x, y, p])\n",
    "    solver.parameters.enumerate_all_solutions = True\n",
    "    solver.solve(model, solution_printer)\n",
    "\n",
    "\n",
    "boolean_product_sample_sat()\n",
    "\n"
   ]
  }
 ],
 "metadata": {},
 "nbformat": 4,
 "nbformat_minor": 5
}
