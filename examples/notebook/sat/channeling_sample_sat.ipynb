{
 "cells": [
  {
   "cell_type": "markdown",
   "id": "google",
   "metadata": {},
   "source": [
    "##### Copyright 2024 Google LLC."
   ]
  },
  {
   "cell_type": "markdown",
   "id": "apache",
   "metadata": {},
   "source": [
    "Licensed under the Apache License, Version 2.0 (the \"License\");\n",
    "you may not use this file except in compliance with the License.\n",
    "You may obtain a copy of the License at\n",
    "\n",
    "    http://www.apache.org/licenses/LICENSE-2.0\n",
    "\n",
    "Unless required by applicable law or agreed to in writing, software\n",
    "distributed under the License is distributed on an \"AS IS\" BASIS,\n",
    "WITHOUT WARRANTIES OR CONDITIONS OF ANY KIND, either express or implied.\n",
    "See the License for the specific language governing permissions and\n",
    "limitations under the License.\n"
   ]
  },
  {
   "cell_type": "markdown",
   "id": "basename",
   "metadata": {},
   "source": [
    "# channeling_sample_sat"
   ]
  },
  {
   "cell_type": "markdown",
   "id": "link",
   "metadata": {},
   "source": [
    "<table align=\"left\">\n",
    "<td>\n",
    "<a href=\"https://colab.research.google.com/github/google/or-tools/blob/main/examples/notebook/sat/channeling_sample_sat.ipynb\"><img src=\"https://raw.githubusercontent.com/google/or-tools/main/tools/colab_32px.png\"/>Run in Google Colab</a>\n",
    "</td>\n",
    "<td>\n",
    "<a href=\"https://github.com/google/or-tools/blob/main/ortools/sat/samples/channeling_sample_sat.py\"><img src=\"https://raw.githubusercontent.com/google/or-tools/main/tools/github_32px.png\"/>View source on GitHub</a>\n",
    "</td>\n",
    "</table>"
   ]
  },
  {
   "cell_type": "markdown",
   "id": "doc",
   "metadata": {},
   "source": [
    "First, you must install [ortools](https://pypi.org/project/ortools/) package in this colab."
   ]
  },
  {
   "cell_type": "code",
   "execution_count": null,
   "id": "install",
   "metadata": {},
   "outputs": [],
   "source": [
    "%pip install ortools"
   ]
  },
  {
   "cell_type": "markdown",
   "id": "description",
   "metadata": {},
   "source": [
    "\n",
    "Link integer constraints together.\n",
    "\n"
   ]
  },
  {
   "cell_type": "code",
   "execution_count": null,
   "id": "code",
   "metadata": {},
   "outputs": [],
   "source": [
    "from ortools.sat.python import cp_model\n",
    "\n",
    "\n",
    "class VarArraySolutionPrinter(cp_model.CpSolverSolutionCallback):\n",
    "    \"\"\"Print intermediate solutions.\"\"\"\n",
    "\n",
    "    def __init__(self, variables: list[cp_model.IntVar]):\n",
    "        cp_model.CpSolverSolutionCallback.__init__(self)\n",
    "        self.__variables = variables\n",
    "\n",
    "    def on_solution_callback(self) -> None:\n",
    "        for v in self.__variables:\n",
    "            print(f\"{v}={self.value(v)}\", end=\" \")\n",
    "        print()\n",
    "\n",
    "\n",
    "def channeling_sample_sat():\n",
    "    \"\"\"Demonstrates how to link integer constraints together.\"\"\"\n",
    "\n",
    "    # Create the CP-SAT model.\n",
    "    model = cp_model.CpModel()\n",
    "\n",
    "    # Declare our two primary variables.\n",
    "    x = model.new_int_var(0, 10, \"x\")\n",
    "    y = model.new_int_var(0, 10, \"y\")\n",
    "\n",
    "    # Declare our intermediate boolean variable.\n",
    "    b = model.new_bool_var(\"b\")\n",
    "\n",
    "    # Implement b == (x >= 5).\n",
    "    model.add(x >= 5).only_enforce_if(b)\n",
    "    model.add(x < 5).only_enforce_if(~b)\n",
    "\n",
    "    # Create our two half-reified constraints.\n",
    "    # First, b implies (y == 10 - x).\n",
    "    model.add(y == 10 - x).only_enforce_if(b)\n",
    "    # Second, not(b) implies y == 0.\n",
    "    model.add(y == 0).only_enforce_if(~b)\n",
    "\n",
    "    # Search for x values in increasing order.\n",
    "    model.add_decision_strategy([x], cp_model.CHOOSE_FIRST, cp_model.SELECT_MIN_VALUE)\n",
    "\n",
    "    # Create a solver and solve with a fixed search.\n",
    "    solver = cp_model.CpSolver()\n",
    "\n",
    "    # Force the solver to follow the decision strategy exactly.\n",
    "    solver.parameters.search_branching = cp_model.FIXED_SEARCH\n",
    "    # Enumerate all solutions.\n",
    "    solver.parameters.enumerate_all_solutions = True\n",
    "\n",
    "    # Search and print out all solutions.\n",
    "    solution_printer = VarArraySolutionPrinter([x, y, b])\n",
    "    solver.solve(model, solution_printer)\n",
    "\n",
    "\n",
    "channeling_sample_sat()\n",
    "\n"
   ]
  }
 ],
 "metadata": {},
 "nbformat": 4,
 "nbformat_minor": 5
}
