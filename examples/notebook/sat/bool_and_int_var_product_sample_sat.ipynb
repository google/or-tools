{
 "cells": [
  {
   "cell_type": "markdown",
   "id": "google",
   "metadata": {},
   "source": [
    "##### Copyright 2023 Google LLC."
   ]
  },
  {
   "cell_type": "markdown",
   "id": "apache",
   "metadata": {},
   "source": [
    "Licensed under the Apache License, Version 2.0 (the \"License\");\n",
    "you may not use this file except in compliance with the License.\n",
    "You may obtain a copy of the License at\n",
    "\n",
    "    http://www.apache.org/licenses/LICENSE-2.0\n",
    "\n",
    "Unless required by applicable law or agreed to in writing, software\n",
    "distributed under the License is distributed on an \"AS IS\" BASIS,\n",
    "WITHOUT WARRANTIES OR CONDITIONS OF ANY KIND, either express or implied.\n",
    "See the License for the specific language governing permissions and\n",
    "limitations under the License.\n"
   ]
  },
  {
   "cell_type": "markdown",
   "id": "basename",
   "metadata": {},
   "source": [
    "# bool_and_int_var_product_sample_sat"
   ]
  },
  {
   "cell_type": "markdown",
   "id": "link",
   "metadata": {},
   "source": [
    "<table align=\"left\">\n",
    "<td>\n",
    "<a href=\"https://colab.research.google.com/github/google/or-tools/blob/main/examples/notebook/sat/bool_and_int_var_product_sample_sat.ipynb\"><img src=\"https://raw.githubusercontent.com/google/or-tools/main/tools/colab_32px.png\"/>Run in Google Colab</a>\n",
    "</td>\n",
    "<td>\n",
    "<a href=\"https://github.com/google/or-tools/blob/main/ortools/sat/samples/bool_and_int_var_product_sample_sat.py\"><img src=\"https://raw.githubusercontent.com/google/or-tools/main/tools/github_32px.png\"/>View source on GitHub</a>\n",
    "</td>\n",
    "</table>"
   ]
  },
  {
   "cell_type": "markdown",
   "id": "doc",
   "metadata": {},
   "source": [
    "First, you must install [ortools](https://pypi.org/project/ortools/) package in this colab."
   ]
  },
  {
   "cell_type": "code",
   "execution_count": null,
   "id": "install",
   "metadata": {},
   "outputs": [],
   "source": [
    "%pip install ortools"
   ]
  },
  {
   "cell_type": "markdown",
   "id": "description",
   "metadata": {},
   "source": [
    "\n",
    "Code sample that encodes the product of a Boolean and an integer variable.\n"
   ]
  },
  {
   "cell_type": "code",
   "execution_count": null,
   "id": "code",
   "metadata": {},
   "outputs": [],
   "source": [
    "from ortools.sat.python import cp_model\n",
    "\n",
    "\n",
    "class VarArraySolutionPrinter(cp_model.CpSolverSolutionCallback):\n",
    "    \"\"\"Print intermediate solutions.\"\"\"\n",
    "\n",
    "    def __init__(self, variables: list[cp_model.IntVar]):\n",
    "        cp_model.CpSolverSolutionCallback.__init__(self)\n",
    "        self.__variables = variables\n",
    "\n",
    "    def on_solution_callback(self) -> None:\n",
    "        for v in self.__variables:\n",
    "            print(f\"{v}={self.value(v)}\", end=\" \")\n",
    "        print()\n",
    "\n",
    "\n",
    "def build_product_var(\n",
    "    model: cp_model.CpModel, b: cp_model.IntVar, x: cp_model.IntVar, name: str\n",
    ") -> cp_model.IntVar:\n",
    "    \"\"\"Builds the product of a Boolean variable and an integer variable.\"\"\"\n",
    "    p = model.new_int_var_from_domain(\n",
    "        cp_model.Domain.from_flat_intervals(x.proto.domain).union_with(\n",
    "            cp_model.Domain(0, 0)\n",
    "        ),\n",
    "        name,\n",
    "    )\n",
    "    model.add(p == x).only_enforce_if(b)\n",
    "    model.add(p == 0).only_enforce_if(~b)\n",
    "    return p\n",
    "\n",
    "\n",
    "def bool_and_int_var_product_sample_sat():\n",
    "    \"\"\"Encoding of the product of two Boolean variables.\n",
    "\n",
    "    p == x * y, which is the same as p <=> x and y\n",
    "    \"\"\"\n",
    "    model = cp_model.CpModel()\n",
    "    b = model.new_bool_var(\"b\")\n",
    "    x = model.new_int_var_from_domain(\n",
    "        cp_model.Domain.from_values([1, 2, 3, 5, 6, 7, 9, 10]), \"x\"\n",
    "    )\n",
    "    p = build_product_var(model, b, x, \"p\")\n",
    "\n",
    "    # Search for x and b values in increasing order.\n",
    "    model.add_decision_strategy(\n",
    "        [b, x], cp_model.CHOOSE_FIRST, cp_model.SELECT_MIN_VALUE\n",
    "    )\n",
    "\n",
    "    # Create a solver and solve.\n",
    "    solver = cp_model.CpSolver()\n",
    "    solution_printer = VarArraySolutionPrinter([x, b, p])\n",
    "    solver.parameters.enumerate_all_solutions = True\n",
    "    solver.parameters.search_branching = cp_model.FIXED_SEARCH\n",
    "    solver.solve(model, solution_printer)\n",
    "\n",
    "\n",
    "bool_and_int_var_product_sample_sat()\n",
    "\n"
   ]
  }
 ],
 "metadata": {},
 "nbformat": 4,
 "nbformat_minor": 5
}
