{
 "cells": [
  {
   "cell_type": "markdown",
   "id": "google",
   "metadata": {},
   "source": [
    "##### Copyright 2022 Google LLC."
   ]
  },
  {
   "cell_type": "markdown",
   "id": "apache",
   "metadata": {},
   "source": [
    "Licensed under the Apache License, Version 2.0 (the \"License\");\n",
    "you may not use this file except in compliance with the License.\n",
    "You may obtain a copy of the License at\n",
    "\n",
    "    http://www.apache.org/licenses/LICENSE-2.0\n",
    "\n",
    "Unless required by applicable law or agreed to in writing, software\n",
    "distributed under the License is distributed on an \"AS IS\" BASIS,\n",
    "WITHOUT WARRANTIES OR CONDITIONS OF ANY KIND, either express or implied.\n",
    "See the License for the specific language governing permissions and\n",
    "limitations under the License.\n"
   ]
  },
  {
   "cell_type": "markdown",
   "id": "basename",
   "metadata": {},
   "source": [
    "# interval_sample_sat"
   ]
  },
  {
   "cell_type": "markdown",
   "id": "link",
   "metadata": {},
   "source": [
    "<table align=\"left\">\n",
    "<td>\n",
    "<a href=\"https://colab.research.google.com/github/google/or-tools/blob/main/examples/notebook/sat/interval_sample_sat.ipynb\"><img src=\"https://raw.githubusercontent.com/google/or-tools/main/tools/colab_32px.png\"/>Run in Google Colab</a>\n",
    "</td>\n",
    "<td>\n",
    "<a href=\"https://github.com/google/or-tools/blob/main/ortools/sat/samples/interval_sample_sat.py\"><img src=\"https://raw.githubusercontent.com/google/or-tools/main/tools/github_32px.png\"/>View source on GitHub</a>\n",
    "</td>\n",
    "</table>"
   ]
  },
  {
   "cell_type": "markdown",
   "id": "doc",
   "metadata": {},
   "source": [
    "First, you must install [ortools](https://pypi.org/project/ortools/) package in this colab."
   ]
  },
  {
   "cell_type": "code",
   "execution_count": null,
   "id": "install",
   "metadata": {},
   "outputs": [],
   "source": [
    "!pip install ortools"
   ]
  },
  {
   "cell_type": "markdown",
   "id": "description",
   "metadata": {},
   "source": [
    "Code sample to demonstrates how to build an interval.\n"
   ]
  },
  {
   "cell_type": "code",
   "execution_count": null,
   "id": "code",
   "metadata": {},
   "outputs": [],
   "source": [
    "from ortools.sat.python import cp_model\n",
    "\n",
    "\n",
    "def IntervalSampleSat():\n",
    "    \"\"\"Showcases how to build interval variables.\"\"\"\n",
    "    model = cp_model.CpModel()\n",
    "    horizon = 100\n",
    "\n",
    "    # An interval can be created from three affine expressions.\n",
    "    start_var = model.NewIntVar(0, horizon, 'start')\n",
    "    duration = 10  # Python cp/sat code accept integer variables or constants.\n",
    "    end_var = model.NewIntVar(0, horizon, 'end')\n",
    "    interval_var = model.NewIntervalVar(start_var, duration, end_var + 2,\n",
    "                                        'interval')\n",
    "\n",
    "    print(f'interval = {repr(interval_var)}')\n",
    "\n",
    "    # If the size is fixed, a simpler version uses the start expression and the\n",
    "    # size.\n",
    "    fixed_size_interval_var = model.NewFixedSizeIntervalVar(\n",
    "        start_var, 10, 'fixed_size_interval_var')\n",
    "    print(f'fixed_size_interval_var = {repr(fixed_size_interval_var)}')\n",
    "\n",
    "    # A fixed interval can be created using the same API.\n",
    "    fixed_interval = model.NewFixedSizeIntervalVar(5, 10, 'fixed_interval')\n",
    "    print(f'fixed_interval = {repr(fixed_interval)}')\n",
    "\n",
    "\n",
    "IntervalSampleSat()\n",
    "\n"
   ]
  }
 ],
 "metadata": {},
 "nbformat": 4,
 "nbformat_minor": 5
}
