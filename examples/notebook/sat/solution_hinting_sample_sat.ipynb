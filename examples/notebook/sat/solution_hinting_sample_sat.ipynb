{
 "cells": [
  {
   "cell_type": "markdown",
   "id": "google",
   "metadata": {},
   "source": [
    "##### Copyright 2022 Google LLC."
   ]
  },
  {
   "cell_type": "markdown",
   "id": "apache",
   "metadata": {},
   "source": [
    "Licensed under the Apache License, Version 2.0 (the \"License\");\n",
    "you may not use this file except in compliance with the License.\n",
    "You may obtain a copy of the License at\n",
    "\n",
    "    http://www.apache.org/licenses/LICENSE-2.0\n",
    "\n",
    "Unless required by applicable law or agreed to in writing, software\n",
    "distributed under the License is distributed on an \"AS IS\" BASIS,\n",
    "WITHOUT WARRANTIES OR CONDITIONS OF ANY KIND, either express or implied.\n",
    "See the License for the specific language governing permissions and\n",
    "limitations under the License.\n"
   ]
  },
  {
   "cell_type": "markdown",
   "id": "basename",
   "metadata": {},
   "source": [
    "# solution_hinting_sample_sat"
   ]
  },
  {
   "cell_type": "markdown",
   "id": "link",
   "metadata": {},
   "source": [
    "<table align=\"left\">\n",
    "<td>\n",
    "<a href=\"https://colab.research.google.com/github/google/or-tools/blob/main/examples/notebook/sat/solution_hinting_sample_sat.ipynb\"><img src=\"https://raw.githubusercontent.com/google/or-tools/main/tools/colab_32px.png\"/>Run in Google Colab</a>\n",
    "</td>\n",
    "<td>\n",
    "<a href=\"https://github.com/google/or-tools/blob/main/ortools/sat/samples/solution_hinting_sample_sat.py\"><img src=\"https://raw.githubusercontent.com/google/or-tools/main/tools/github_32px.png\"/>View source on GitHub</a>\n",
    "</td>\n",
    "</table>"
   ]
  },
  {
   "cell_type": "markdown",
   "id": "doc",
   "metadata": {},
   "source": [
    "First, you must install [ortools](https://pypi.org/project/ortools/) package in this colab."
   ]
  },
  {
   "cell_type": "code",
   "execution_count": null,
   "id": "install",
   "metadata": {},
   "outputs": [],
   "source": [
    "!pip install ortools"
   ]
  },
  {
   "cell_type": "markdown",
   "id": "description",
   "metadata": {},
   "source": [
    "Code sample that solves a model using solution hinting.\n"
   ]
  },
  {
   "cell_type": "code",
   "execution_count": null,
   "id": "code",
   "metadata": {},
   "outputs": [],
   "source": [
    "from ortools.sat.python import cp_model\n",
    "\n",
    "\n",
    "def SolutionHintingSampleSat():\n",
    "    \"\"\"Showcases solution hinting.\"\"\"\n",
    "    # Creates the model.\n",
    "    model = cp_model.CpModel()\n",
    "\n",
    "    # Creates the variables.\n",
    "    num_vals = 3\n",
    "    x = model.NewIntVar(0, num_vals - 1, 'x')\n",
    "    y = model.NewIntVar(0, num_vals - 1, 'y')\n",
    "    z = model.NewIntVar(0, num_vals - 1, 'z')\n",
    "\n",
    "    # Creates the constraints.\n",
    "    model.Add(x != y)\n",
    "\n",
    "    model.Maximize(x + 2 * y + 3 * z)\n",
    "\n",
    "    # Solution hinting: x <- 1, y <- 2\n",
    "    model.AddHint(x, 1)\n",
    "    model.AddHint(y, 2)\n",
    "\n",
    "    # Creates a solver and solves.\n",
    "    solver = cp_model.CpSolver()\n",
    "    solution_printer = cp_model.VarArrayAndObjectiveSolutionPrinter([x, y, z])\n",
    "    status = solver.Solve(model, solution_printer)\n",
    "\n",
    "    print('Status = %s' % solver.StatusName(status))\n",
    "    print('Number of solutions found: %i' % solution_printer.solution_count())\n",
    "\n",
    "\n",
    "SolutionHintingSampleSat()\n",
    "\n"
   ]
  }
 ],
 "metadata": {},
 "nbformat": 4,
 "nbformat_minor": 5
}
