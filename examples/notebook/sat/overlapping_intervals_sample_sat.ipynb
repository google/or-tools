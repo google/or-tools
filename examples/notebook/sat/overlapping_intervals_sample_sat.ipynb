{
 "cells": [
  {
   "cell_type": "markdown",
   "id": "google",
   "metadata": {},
   "source": [
    "##### Copyright 2024 Google LLC."
   ]
  },
  {
   "cell_type": "markdown",
   "id": "apache",
   "metadata": {},
   "source": [
    "Licensed under the Apache License, Version 2.0 (the \"License\");\n",
    "you may not use this file except in compliance with the License.\n",
    "You may obtain a copy of the License at\n",
    "\n",
    "    http://www.apache.org/licenses/LICENSE-2.0\n",
    "\n",
    "Unless required by applicable law or agreed to in writing, software\n",
    "distributed under the License is distributed on an \"AS IS\" BASIS,\n",
    "WITHOUT WARRANTIES OR CONDITIONS OF ANY KIND, either express or implied.\n",
    "See the License for the specific language governing permissions and\n",
    "limitations under the License.\n"
   ]
  },
  {
   "cell_type": "markdown",
   "id": "basename",
   "metadata": {},
   "source": [
    "# overlapping_intervals_sample_sat"
   ]
  },
  {
   "cell_type": "markdown",
   "id": "link",
   "metadata": {},
   "source": [
    "<table align=\"left\">\n",
    "<td>\n",
    "<a href=\"https://colab.research.google.com/github/google/or-tools/blob/main/examples/notebook/sat/overlapping_intervals_sample_sat.ipynb\"><img src=\"https://raw.githubusercontent.com/google/or-tools/main/tools/colab_32px.png\"/>Run in Google Colab</a>\n",
    "</td>\n",
    "<td>\n",
    "<a href=\"https://github.com/google/or-tools/blob/main/ortools/sat/samples/overlapping_intervals_sample_sat.py\"><img src=\"https://raw.githubusercontent.com/google/or-tools/main/tools/github_32px.png\"/>View source on GitHub</a>\n",
    "</td>\n",
    "</table>"
   ]
  },
  {
   "cell_type": "markdown",
   "id": "doc",
   "metadata": {},
   "source": [
    "First, you must install [ortools](https://pypi.org/project/ortools/) package in this colab."
   ]
  },
  {
   "cell_type": "code",
   "execution_count": null,
   "id": "install",
   "metadata": {},
   "outputs": [],
   "source": [
    "%pip install ortools"
   ]
  },
  {
   "cell_type": "markdown",
   "id": "description",
   "metadata": {},
   "source": [
    "\n",
    "Code sample to demonstrates how to detect if two intervals overlap.\n"
   ]
  },
  {
   "cell_type": "code",
   "execution_count": null,
   "id": "code",
   "metadata": {},
   "outputs": [],
   "source": [
    "from ortools.sat.python import cp_model\n",
    "\n",
    "\n",
    "class VarArraySolutionPrinter(cp_model.CpSolverSolutionCallback):\n",
    "    \"\"\"Print intermediate solutions.\"\"\"\n",
    "\n",
    "    def __init__(self, variables: list[cp_model.IntVar]):\n",
    "        cp_model.CpSolverSolutionCallback.__init__(self)\n",
    "        self.__variables = variables\n",
    "\n",
    "    def on_solution_callback(self) -> None:\n",
    "        for v in self.__variables:\n",
    "            print(f\"{v}={self.value(v)}\", end=\" \")\n",
    "        print()\n",
    "\n",
    "\n",
    "def overlapping_interval_sample_sat():\n",
    "    \"\"\"Create the overlapping Boolean variables and enumerate all states.\"\"\"\n",
    "    model = cp_model.CpModel()\n",
    "\n",
    "    horizon = 7\n",
    "\n",
    "    # First interval.\n",
    "    start_var_a = model.new_int_var(0, horizon, \"start_a\")\n",
    "    duration_a = 3\n",
    "    end_var_a = model.new_int_var(0, horizon, \"end_a\")\n",
    "    unused_interval_var_a = model.new_interval_var(\n",
    "        start_var_a, duration_a, end_var_a, \"interval_a\"\n",
    "    )\n",
    "\n",
    "    # Second interval.\n",
    "    start_var_b = model.new_int_var(0, horizon, \"start_b\")\n",
    "    duration_b = 2\n",
    "    end_var_b = model.new_int_var(0, horizon, \"end_b\")\n",
    "    unused_interval_var_b = model.new_interval_var(\n",
    "        start_var_b, duration_b, end_var_b, \"interval_b\"\n",
    "    )\n",
    "\n",
    "    # a_after_b Boolean variable.\n",
    "    a_after_b = model.new_bool_var(\"a_after_b\")\n",
    "    model.add(start_var_a >= end_var_b).only_enforce_if(a_after_b)\n",
    "    model.add(start_var_a < end_var_b).only_enforce_if(~a_after_b)\n",
    "\n",
    "    # b_after_a Boolean variable.\n",
    "    b_after_a = model.new_bool_var(\"b_after_a\")\n",
    "    model.add(start_var_b >= end_var_a).only_enforce_if(b_after_a)\n",
    "    model.add(start_var_b < end_var_a).only_enforce_if(~b_after_a)\n",
    "\n",
    "    # Result Boolean variable.\n",
    "    a_overlaps_b = model.new_bool_var(\"a_overlaps_b\")\n",
    "\n",
    "    # Option a: using only clauses\n",
    "    model.add_bool_or(a_after_b, b_after_a, a_overlaps_b)\n",
    "    model.add_implication(a_after_b, ~a_overlaps_b)\n",
    "    model.add_implication(b_after_a, ~a_overlaps_b)\n",
    "\n",
    "    # Option b: using an exactly one constraint.\n",
    "    # model.add_exactly_one(a_after_b, b_after_a, a_overlaps_b)\n",
    "\n",
    "    # Search for start values in increasing order for the two intervals.\n",
    "    model.add_decision_strategy(\n",
    "        [start_var_a, start_var_b],\n",
    "        cp_model.CHOOSE_FIRST,\n",
    "        cp_model.SELECT_MIN_VALUE,\n",
    "    )\n",
    "\n",
    "    # Create a solver and solve with a fixed search.\n",
    "    solver = cp_model.CpSolver()\n",
    "\n",
    "    # Force the solver to follow the decision strategy exactly.\n",
    "    solver.parameters.search_branching = cp_model.FIXED_SEARCH\n",
    "    # Enumerate all solutions.\n",
    "    solver.parameters.enumerate_all_solutions = True\n",
    "\n",
    "    # Search and print out all solutions.\n",
    "    solution_printer = VarArraySolutionPrinter([start_var_a, start_var_b, a_overlaps_b])\n",
    "    solver.solve(model, solution_printer)\n",
    "\n",
    "\n",
    "overlapping_interval_sample_sat()\n",
    "\n"
   ]
  }
 ],
 "metadata": {},
 "nbformat": 4,
 "nbformat_minor": 5
}
