{
 "cells": [
  {
   "cell_type": "markdown",
   "id": "google",
   "metadata": {},
   "source": [
    "##### Copyright 2022 Google LLC."
   ]
  },
  {
   "cell_type": "markdown",
   "id": "apache",
   "metadata": {},
   "source": [
    "Licensed under the Apache License, Version 2.0 (the \"License\");\n",
    "you may not use this file except in compliance with the License.\n",
    "You may obtain a copy of the License at\n",
    "\n",
    "    http://www.apache.org/licenses/LICENSE-2.0\n",
    "\n",
    "Unless required by applicable law or agreed to in writing, software\n",
    "distributed under the License is distributed on an \"AS IS\" BASIS,\n",
    "WITHOUT WARRANTIES OR CONDITIONS OF ANY KIND, either express or implied.\n",
    "See the License for the specific language governing permissions and\n",
    "limitations under the License.\n"
   ]
  },
  {
   "cell_type": "markdown",
   "id": "basename",
   "metadata": {},
   "source": [
    "# assignment_sat"
   ]
  },
  {
   "cell_type": "markdown",
   "id": "link",
   "metadata": {},
   "source": [
    "<table align=\"left\">\n",
    "<td>\n",
    "<a href=\"https://colab.research.google.com/github/google/or-tools/blob/main/examples/notebook/sat/assignment_sat.ipynb\"><img src=\"https://raw.githubusercontent.com/google/or-tools/main/tools/colab_32px.png\"/>Run in Google Colab</a>\n",
    "</td>\n",
    "<td>\n",
    "<a href=\"https://github.com/google/or-tools/blob/main/ortools/sat/samples/assignment_sat.py\"><img src=\"https://raw.githubusercontent.com/google/or-tools/main/tools/github_32px.png\"/>View source on GitHub</a>\n",
    "</td>\n",
    "</table>"
   ]
  },
  {
   "cell_type": "markdown",
   "id": "doc",
   "metadata": {},
   "source": [
    "First, you must install [ortools](https://pypi.org/project/ortools/) package in this colab."
   ]
  },
  {
   "cell_type": "code",
   "execution_count": null,
   "id": "install",
   "metadata": {},
   "outputs": [],
   "source": [
    "!pip install ortools"
   ]
  },
  {
   "cell_type": "markdown",
   "id": "description",
   "metadata": {},
   "source": [
    "Solve a simple assignment problem."
   ]
  },
  {
   "cell_type": "code",
   "execution_count": null,
   "id": "code",
   "metadata": {},
   "outputs": [],
   "source": [
    "from ortools.sat.python import cp_model\n",
    "\n",
    "\n",
    "def main():\n",
    "    # Data\n",
    "    costs = [\n",
    "        [90, 80, 75, 70],\n",
    "        [35, 85, 55, 65],\n",
    "        [125, 95, 90, 95],\n",
    "        [45, 110, 95, 115],\n",
    "        [50, 100, 90, 100],\n",
    "    ]\n",
    "    num_workers = len(costs)\n",
    "    num_tasks = len(costs[0])\n",
    "\n",
    "    # Model\n",
    "    model = cp_model.CpModel()\n",
    "\n",
    "    # Variables\n",
    "    x = []\n",
    "    for i in range(num_workers):\n",
    "        t = []\n",
    "        for j in range(num_tasks):\n",
    "            t.append(model.NewBoolVar(f'x[{i},{j}]'))\n",
    "        x.append(t)\n",
    "\n",
    "    # Constraints\n",
    "    # Each worker is assigned to at most one task.\n",
    "    for i in range(num_workers):\n",
    "        model.AddAtMostOne(x[i][j] for j in range(num_tasks))\n",
    "\n",
    "    # Each task is assigned to exactly one worker.\n",
    "    for j in range(num_tasks):\n",
    "        model.AddExactlyOne(x[i][j] for i in range(num_workers))\n",
    "\n",
    "    # Objective\n",
    "    objective_terms = []\n",
    "    for i in range(num_workers):\n",
    "        for j in range(num_tasks):\n",
    "            objective_terms.append(costs[i][j] * x[i][j])\n",
    "    model.Minimize(sum(objective_terms))\n",
    "\n",
    "    # Solve\n",
    "    solver = cp_model.CpSolver()\n",
    "    status = solver.Solve(model)\n",
    "\n",
    "    # Print solution.\n",
    "    if status == cp_model.OPTIMAL or status == cp_model.FEASIBLE:\n",
    "        print(f'Total cost = {solver.ObjectiveValue()}')\n",
    "        print()\n",
    "        for i in range(num_workers):\n",
    "            for j in range(num_tasks):\n",
    "                if solver.BooleanValue(x[i][j]):\n",
    "                    print(\n",
    "                        f'Worker {i} assigned to task {j} Cost = {costs[i][j]}')\n",
    "    else:\n",
    "        print('No solution found.')\n",
    "\n",
    "\n",
    "main()\n",
    "\n"
   ]
  }
 ],
 "metadata": {},
 "nbformat": 4,
 "nbformat_minor": 5
}
