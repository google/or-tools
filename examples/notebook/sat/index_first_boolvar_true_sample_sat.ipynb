{
 "cells": [
  {
   "cell_type": "markdown",
   "id": "google",
   "metadata": {},
   "source": [
    "##### Copyright 2023 Google LLC."
   ]
  },
  {
   "cell_type": "markdown",
   "id": "apache",
   "metadata": {},
   "source": [
    "Licensed under the Apache License, Version 2.0 (the \"License\");\n",
    "you may not use this file except in compliance with the License.\n",
    "You may obtain a copy of the License at\n",
    "\n",
    "    http://www.apache.org/licenses/LICENSE-2.0\n",
    "\n",
    "Unless required by applicable law or agreed to in writing, software\n",
    "distributed under the License is distributed on an \"AS IS\" BASIS,\n",
    "WITHOUT WARRANTIES OR CONDITIONS OF ANY KIND, either express or implied.\n",
    "See the License for the specific language governing permissions and\n",
    "limitations under the License.\n"
   ]
  },
  {
   "cell_type": "markdown",
   "id": "basename",
   "metadata": {},
   "source": [
    "# index_first_boolvar_true_sample_sat"
   ]
  },
  {
   "cell_type": "markdown",
   "id": "link",
   "metadata": {},
   "source": [
    "<table align=\"left\">\n",
    "<td>\n",
    "<a href=\"https://colab.research.google.com/github/google/or-tools/blob/main/examples/notebook/sat/index_first_boolvar_true_sample_sat.ipynb\"><img src=\"https://raw.githubusercontent.com/google/or-tools/main/tools/colab_32px.png\"/>Run in Google Colab</a>\n",
    "</td>\n",
    "<td>\n",
    "<a href=\"https://github.com/google/or-tools/blob/main/ortools/sat/samples/index_first_boolvar_true_sample_sat.py\"><img src=\"https://raw.githubusercontent.com/google/or-tools/main/tools/github_32px.png\"/>View source on GitHub</a>\n",
    "</td>\n",
    "</table>"
   ]
  },
  {
   "cell_type": "markdown",
   "id": "doc",
   "metadata": {},
   "source": [
    "First, you must install [ortools](https://pypi.org/project/ortools/) package in this colab."
   ]
  },
  {
   "cell_type": "code",
   "execution_count": null,
   "id": "install",
   "metadata": {},
   "outputs": [],
   "source": [
    "%pip install ortools"
   ]
  },
  {
   "cell_type": "markdown",
   "id": "description",
   "metadata": {},
   "source": [
    "\n",
    "Compute the index of the first Boolean variable set to true.\n"
   ]
  },
  {
   "cell_type": "code",
   "execution_count": null,
   "id": "code",
   "metadata": {},
   "outputs": [],
   "source": [
    "from ortools.sat.python import cp_model\n",
    "\n",
    "\n",
    "class VarArraySolutionPrinter(cp_model.CpSolverSolutionCallback):\n",
    "    \"\"\"Print intermediate solutions.\"\"\"\n",
    "\n",
    "    def __init__(self, index: cp_model.IntVar, boolvars: list[cp_model.IntVar]):\n",
    "        cp_model.CpSolverSolutionCallback.__init__(self)\n",
    "        self.__index = index\n",
    "        self.__boolvars = boolvars\n",
    "\n",
    "    def on_solution_callback(self) -> None:\n",
    "        line = \"\"\n",
    "        for v in self.__boolvars:\n",
    "            line += f\"{self.value(v)}\"\n",
    "        line += f\" -> {self.value(self.__index)}\"\n",
    "        print(line)\n",
    "\n",
    "\n",
    "def index_of_first_bool_at_true_sample_sat():\n",
    "    \"\"\"Compute the index of the first Boolean variable set to true.\"\"\"\n",
    "\n",
    "    # Model.\n",
    "    model = cp_model.CpModel()\n",
    "\n",
    "    # Variables\n",
    "    num_bool_vars = 5\n",
    "    bool_vars = [model.new_bool_var(f\"{i}\") for i in range(num_bool_vars)]\n",
    "    index = model.new_int_var(0, num_bool_vars, \"index\")\n",
    "\n",
    "    # Channeling between the index and the Boolean variables.\n",
    "    model.add_min_equality(\n",
    "        index,\n",
    "        [\n",
    "            num_bool_vars - bool_vars[i] * (num_bool_vars - i)\n",
    "            for i in range(num_bool_vars)\n",
    "        ],\n",
    "    )\n",
    "\n",
    "    # Flip bool_vars in increasing order.\n",
    "    model.add_decision_strategy(\n",
    "        bool_vars, cp_model.CHOOSE_FIRST, cp_model.SELECT_MIN_VALUE\n",
    "    )\n",
    "\n",
    "    # Create a solver and solve with a fixed search.\n",
    "    solver = cp_model.CpSolver()\n",
    "\n",
    "    # Force the solver to follow the decision strategy exactly.\n",
    "    solver.parameters.search_branching = cp_model.FIXED_SEARCH\n",
    "\n",
    "    # Search and print out all solutions.\n",
    "    solver.parameters.enumerate_all_solutions = True\n",
    "    solution_printer = VarArraySolutionPrinter(index, bool_vars)\n",
    "    solver.solve(model, solution_printer)\n",
    "\n",
    "\n",
    "index_of_first_bool_at_true_sample_sat()\n",
    "\n"
   ]
  }
 ],
 "metadata": {},
 "nbformat": 4,
 "nbformat_minor": 5
}
