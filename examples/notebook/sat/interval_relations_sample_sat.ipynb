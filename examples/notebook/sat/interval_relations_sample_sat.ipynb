{
 "cells": [
  {
   "cell_type": "markdown",
   "id": "google",
   "metadata": {},
   "source": [
    "##### Copyright 2024 Google LLC."
   ]
  },
  {
   "cell_type": "markdown",
   "id": "apache",
   "metadata": {},
   "source": [
    "Licensed under the Apache License, Version 2.0 (the \"License\");\n",
    "you may not use this file except in compliance with the License.\n",
    "You may obtain a copy of the License at\n",
    "\n",
    "    http://www.apache.org/licenses/LICENSE-2.0\n",
    "\n",
    "Unless required by applicable law or agreed to in writing, software\n",
    "distributed under the License is distributed on an \"AS IS\" BASIS,\n",
    "WITHOUT WARRANTIES OR CONDITIONS OF ANY KIND, either express or implied.\n",
    "See the License for the specific language governing permissions and\n",
    "limitations under the License.\n"
   ]
  },
  {
   "cell_type": "markdown",
   "id": "basename",
   "metadata": {},
   "source": [
    "# interval_relations_sample_sat"
   ]
  },
  {
   "cell_type": "markdown",
   "id": "link",
   "metadata": {},
   "source": [
    "<table align=\"left\">\n",
    "<td>\n",
    "<a href=\"https://colab.research.google.com/github/google/or-tools/blob/main/examples/notebook/sat/interval_relations_sample_sat.ipynb\"><img src=\"https://raw.githubusercontent.com/google/or-tools/main/tools/colab_32px.png\"/>Run in Google Colab</a>\n",
    "</td>\n",
    "<td>\n",
    "<a href=\"https://github.com/google/or-tools/blob/main/ortools/sat/samples/interval_relations_sample_sat.py\"><img src=\"https://raw.githubusercontent.com/google/or-tools/main/tools/github_32px.png\"/>View source on GitHub</a>\n",
    "</td>\n",
    "</table>"
   ]
  },
  {
   "cell_type": "markdown",
   "id": "doc",
   "metadata": {},
   "source": [
    "First, you must install [ortools](https://pypi.org/project/ortools/) package in this colab."
   ]
  },
  {
   "cell_type": "code",
   "execution_count": null,
   "id": "install",
   "metadata": {},
   "outputs": [],
   "source": [
    "%pip install ortools"
   ]
  },
  {
   "cell_type": "markdown",
   "id": "description",
   "metadata": {},
   "source": [
    "\n",
    "Builds temporal relations between intervals.\n"
   ]
  },
  {
   "cell_type": "code",
   "execution_count": null,
   "id": "code",
   "metadata": {},
   "outputs": [],
   "source": [
    "from ortools.sat.python import cp_model\n",
    "\n",
    "\n",
    "def interval_relations_sample_sat():\n",
    "    \"\"\"Showcases how to build temporal relations between intervals.\"\"\"\n",
    "    model = cp_model.CpModel()\n",
    "    horizon = 100\n",
    "\n",
    "    # An interval can be created from three 1-var affine expressions.\n",
    "    start_var = model.new_int_var(0, horizon, \"start\")\n",
    "    duration = 10  # Python CP-SAT code accept integer variables or constants.\n",
    "    end_var = model.new_int_var(0, horizon, \"end\")\n",
    "    interval_var = model.new_interval_var(start_var, duration, end_var, \"interval\")\n",
    "\n",
    "    # If the size is fixed, a simpler version uses the start expression and the\n",
    "    # size.\n",
    "    fixed_size_start_var = model.new_int_var(0, horizon, \"fixed_start\")\n",
    "    fixed_size_duration = 10\n",
    "    fixed_size_interval_var = model.new_fixed_size_interval_var(\n",
    "        fixed_size_start_var,\n",
    "        fixed_size_duration,\n",
    "        \"fixed_size_interval_var\",\n",
    "    )\n",
    "\n",
    "    # An optional interval can be created from three 1-var affine expressions and\n",
    "    # a literal.\n",
    "    opt_start_var = model.new_int_var(0, horizon, \"opt_start\")\n",
    "    opt_duration = model.new_int_var(2, 6, \"opt_size\")\n",
    "    opt_end_var = model.new_int_var(0, horizon, \"opt_end\")\n",
    "    opt_presence_var = model.new_bool_var(\"opt_presence\")\n",
    "    opt_interval_var = model.new_optional_interval_var(\n",
    "        opt_start_var, opt_duration, opt_end_var, opt_presence_var, \"opt_interval\"\n",
    "    )\n",
    "\n",
    "    # If the size is fixed, a simpler version uses the start expression, the\n",
    "    # size, and the presence literal.\n",
    "    opt_fixed_size_start_var = model.new_int_var(0, horizon, \"opt_fixed_start\")\n",
    "    opt_fixed_size_duration = 10\n",
    "    opt_fixed_size_presence_var = model.new_bool_var(\"opt_fixed_presence\")\n",
    "    opt_fixed_size_interval_var = model.new_optional_fixed_size_interval_var(\n",
    "        opt_fixed_size_start_var,\n",
    "        opt_fixed_size_duration,\n",
    "        opt_fixed_size_presence_var,\n",
    "        \"opt_fixed_size_interval_var\",\n",
    "    )\n",
    "\n",
    "    # Simple precedence between two non optional intervals.\n",
    "    model.add(interval_var.start_expr() >= fixed_size_interval_var.end_expr())\n",
    "\n",
    "    # Synchronize start between two intervals (one optional, one not)\n",
    "    model.add(\n",
    "        interval_var.start_expr() == opt_interval_var.start_expr()\n",
    "    ).only_enforce_if(opt_presence_var)\n",
    "\n",
    "    # Exact delay between two optional intervals.\n",
    "    exact_delay: int = 5\n",
    "    model.add(\n",
    "        opt_interval_var.start_expr()\n",
    "        == opt_fixed_size_interval_var.end_expr() + exact_delay\n",
    "    ).only_enforce_if(opt_presence_var, opt_fixed_size_presence_var)\n",
    "\n",
    "\n",
    "interval_relations_sample_sat()\n",
    "\n"
   ]
  }
 ],
 "metadata": {},
 "nbformat": 4,
 "nbformat_minor": 5
}
