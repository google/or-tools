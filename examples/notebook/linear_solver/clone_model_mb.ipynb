{
 "cells": [
  {
   "cell_type": "markdown",
   "id": "google",
   "metadata": {},
   "source": [
    "##### Copyright 2024 Google LLC."
   ]
  },
  {
   "cell_type": "markdown",
   "id": "apache",
   "metadata": {},
   "source": [
    "Licensed under the Apache License, Version 2.0 (the \"License\");\n",
    "you may not use this file except in compliance with the License.\n",
    "You may obtain a copy of the License at\n",
    "\n",
    "    http://www.apache.org/licenses/LICENSE-2.0\n",
    "\n",
    "Unless required by applicable law or agreed to in writing, software\n",
    "distributed under the License is distributed on an \"AS IS\" BASIS,\n",
    "WITHOUT WARRANTIES OR CONDITIONS OF ANY KIND, either express or implied.\n",
    "See the License for the specific language governing permissions and\n",
    "limitations under the License.\n"
   ]
  },
  {
   "cell_type": "markdown",
   "id": "basename",
   "metadata": {},
   "source": [
    "# clone_model_mb"
   ]
  },
  {
   "cell_type": "markdown",
   "id": "link",
   "metadata": {},
   "source": [
    "<table align=\"left\">\n",
    "<td>\n",
    "<a href=\"https://colab.research.google.com/github/google/or-tools/blob/main/examples/notebook/linear_solver/clone_model_mb.ipynb\"><img src=\"https://raw.githubusercontent.com/google/or-tools/main/tools/colab_32px.png\"/>Run in Google Colab</a>\n",
    "</td>\n",
    "<td>\n",
    "<a href=\"https://github.com/google/or-tools/blob/main/ortools/linear_solver/samples/clone_model_mb.py\"><img src=\"https://raw.githubusercontent.com/google/or-tools/main/tools/github_32px.png\"/>View source on GitHub</a>\n",
    "</td>\n",
    "</table>"
   ]
  },
  {
   "cell_type": "markdown",
   "id": "doc",
   "metadata": {},
   "source": [
    "First, you must install [ortools](https://pypi.org/project/ortools/) package in this colab."
   ]
  },
  {
   "cell_type": "code",
   "execution_count": null,
   "id": "install",
   "metadata": {},
   "outputs": [],
   "source": [
    "%pip install ortools"
   ]
  },
  {
   "cell_type": "markdown",
   "id": "description",
   "metadata": {},
   "source": [
    "\n",
    "Integer programming examples that show how to clone a model."
   ]
  },
  {
   "cell_type": "code",
   "execution_count": null,
   "id": "code",
   "metadata": {},
   "outputs": [],
   "source": [
    "import math\n",
    "\n",
    "from ortools.linear_solver.python import model_builder\n",
    "\n",
    "\n",
    "def main():\n",
    "    # Create the model.\n",
    "    model = model_builder.Model()\n",
    "\n",
    "    # x and y are integer non-negative variables.\n",
    "    x = model.new_int_var(0.0, math.inf, \"x\")\n",
    "    y = model.new_int_var(0.0, math.inf, \"y\")\n",
    "\n",
    "    # x + 7 * y <= 17.5.\n",
    "    unused_c1 = model.add(x + 7 * y <= 17.5)\n",
    "\n",
    "    # x <= 3.5.\n",
    "    c2 = model.add(x <= 3.5)\n",
    "\n",
    "    # Maximize x + 10 * y.\n",
    "    model.maximize(x + 10 * y)\n",
    "\n",
    "    # [Start clone]\n",
    "    # Clone the model.\n",
    "    print(\"Cloning the model.\")\n",
    "    model_copy = model.clone()\n",
    "    x_copy = model_copy.var_from_index(x.index)\n",
    "    y_copy = model_copy.var_from_index(y.index)\n",
    "    z_copy = model_copy.new_bool_var(\"z\")\n",
    "    c2_copy = model_copy.linear_constraint_from_index(c2.index)\n",
    "\n",
    "    # Add new constraint.\n",
    "    model_copy.add(x_copy >= 1)\n",
    "    print(f\"Number of constraints in original model ={model.num_constraints}\")\n",
    "    print(f\"Number of constraints in cloned model = {model_copy.num_constraints}\")\n",
    "\n",
    "    # Modify a constraint.\n",
    "    c2_copy.add_term(z_copy, 2.0)\n",
    "\n",
    "    # Create the solver with the SCIP backend, and solve the model.\n",
    "    solver = model_builder.Solver(\"scip\")\n",
    "    if not solver.solver_is_supported():\n",
    "        return\n",
    "    status = solver.solve(model_copy)\n",
    "\n",
    "    if status == model_builder.SolveStatus.OPTIMAL:\n",
    "        print(\"Solution:\")\n",
    "        print(f\"Objective value = {solver.objective_value}\")\n",
    "        print(f\"x = {solver.value(x_copy)}\")\n",
    "        print(f\"y = {solver.value(y_copy)}\")\n",
    "        print(f\"z = {solver.value(z_copy)}\")\n",
    "    else:\n",
    "        print(\"The problem does not have an optimal solution.\")\n",
    "\n",
    "    print(\"\\nAdvanced usage:\")\n",
    "    print(f\"Problem solved in {solver.wall_time} seconds\")\n",
    "\n",
    "\n",
    "main()\n",
    "\n"
   ]
  }
 ],
 "metadata": {},
 "nbformat": 4,
 "nbformat_minor": 5
}
