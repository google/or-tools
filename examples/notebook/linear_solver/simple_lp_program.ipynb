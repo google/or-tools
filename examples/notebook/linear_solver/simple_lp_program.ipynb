{
 "cells": [
  {
   "cell_type": "markdown",
   "id": "google",
   "metadata": {},
   "source": [
    "##### Copyright 2022 Google LLC."
   ]
  },
  {
   "cell_type": "markdown",
   "id": "apache",
   "metadata": {},
   "source": [
    "Licensed under the Apache License, Version 2.0 (the \"License\");\n",
    "you may not use this file except in compliance with the License.\n",
    "You may obtain a copy of the License at\n",
    "\n",
    "    http://www.apache.org/licenses/LICENSE-2.0\n",
    "\n",
    "Unless required by applicable law or agreed to in writing, software\n",
    "distributed under the License is distributed on an \"AS IS\" BASIS,\n",
    "WITHOUT WARRANTIES OR CONDITIONS OF ANY KIND, either express or implied.\n",
    "See the License for the specific language governing permissions and\n",
    "limitations under the License.\n"
   ]
  },
  {
   "cell_type": "markdown",
   "id": "basename",
   "metadata": {},
   "source": [
    "# simple_lp_program"
   ]
  },
  {
   "cell_type": "markdown",
   "id": "link",
   "metadata": {},
   "source": [
    "<table align=\"left\">\n",
    "<td>\n",
    "<a href=\"https://colab.research.google.com/github/google/or-tools/blob/main/examples/notebook/linear_solver/simple_lp_program.ipynb\"><img src=\"https://raw.githubusercontent.com/google/or-tools/main/tools/colab_32px.png\"/>Run in Google Colab</a>\n",
    "</td>\n",
    "<td>\n",
    "<a href=\"https://github.com/google/or-tools/blob/main/ortools/linear_solver/samples/simple_lp_program.py\"><img src=\"https://raw.githubusercontent.com/google/or-tools/main/tools/github_32px.png\"/>View source on GitHub</a>\n",
    "</td>\n",
    "</table>"
   ]
  },
  {
   "cell_type": "markdown",
   "id": "doc",
   "metadata": {},
   "source": [
    "First, you must install [ortools](https://pypi.org/project/ortools/) package in this colab."
   ]
  },
  {
   "cell_type": "code",
   "execution_count": null,
   "id": "install",
   "metadata": {},
   "outputs": [],
   "source": [
    "!pip install ortools"
   ]
  },
  {
   "cell_type": "markdown",
   "id": "description",
   "metadata": {},
   "source": [
    "Minimal example to call the GLOP solver."
   ]
  },
  {
   "cell_type": "code",
   "execution_count": null,
   "id": "code",
   "metadata": {},
   "outputs": [],
   "source": [
    "from ortools.linear_solver import pywraplp\n",
    "\n",
    "\n",
    "def main():\n",
    "    # Create the linear solver with the GLOP backend.\n",
    "    solver = pywraplp.Solver.CreateSolver('GLOP')\n",
    "    if not solver:\n",
    "        return\n",
    "\n",
    "    infinity = solver.infinity()\n",
    "    # Create the variables x and y.\n",
    "    x = solver.NumVar(0.0, infinity, 'x')\n",
    "    y = solver.NumVar(0.0, infinity, 'y')\n",
    "\n",
    "    print('Number of variables =', solver.NumVariables())\n",
    "\n",
    "    # x + 7 * y <= 17.5.\n",
    "    solver.Add(x + 7 * y <= 17.5)\n",
    "\n",
    "    # x <= 3.5.\n",
    "    solver.Add(x <= 3.5)\n",
    "\n",
    "    print('Number of constraints =', solver.NumConstraints())\n",
    "\n",
    "    # Maximize x + 10 * y.\n",
    "    solver.Maximize(x + 10 * y)\n",
    "\n",
    "    status = solver.Solve()\n",
    "\n",
    "    if status == pywraplp.Solver.OPTIMAL:\n",
    "        print('Solution:')\n",
    "        print('Objective value =', solver.Objective().Value())\n",
    "        print('x =', x.solution_value())\n",
    "        print('y =', y.solution_value())\n",
    "    else:\n",
    "        print('The problem does not have an optimal solution.')\n",
    "\n",
    "    print('\\nAdvanced usage:')\n",
    "    print('Problem solved in %f milliseconds' % solver.wall_time())\n",
    "    print('Problem solved in %d iterations' % solver.iterations())\n",
    "\n",
    "\n",
    "main()\n",
    "\n"
   ]
  }
 ],
 "metadata": {},
 "nbformat": 4,
 "nbformat_minor": 5
}
