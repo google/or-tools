{
 "cells": [
  {
   "cell_type": "markdown",
   "id": "google",
   "metadata": {},
   "source": [
    "##### Copyright 2023 Google LLC."
   ]
  },
  {
   "cell_type": "markdown",
   "id": "apache",
   "metadata": {},
   "source": [
    "Licensed under the Apache License, Version 2.0 (the \"License\");\n",
    "you may not use this file except in compliance with the License.\n",
    "You may obtain a copy of the License at\n",
    "\n",
    "    http://www.apache.org/licenses/LICENSE-2.0\n",
    "\n",
    "Unless required by applicable law or agreed to in writing, software\n",
    "distributed under the License is distributed on an \"AS IS\" BASIS,\n",
    "WITHOUT WARRANTIES OR CONDITIONS OF ANY KIND, either express or implied.\n",
    "See the License for the specific language governing permissions and\n",
    "limitations under the License.\n"
   ]
  },
  {
   "cell_type": "markdown",
   "id": "basename",
   "metadata": {},
   "source": [
    "# basic_example"
   ]
  },
  {
   "cell_type": "markdown",
   "id": "link",
   "metadata": {},
   "source": [
    "<table align=\"left\">\n",
    "<td>\n",
    "<a href=\"https://colab.research.google.com/github/google/or-tools/blob/main/examples/notebook/linear_solver/basic_example.ipynb\"><img src=\"https://raw.githubusercontent.com/google/or-tools/main/tools/colab_32px.png\"/>Run in Google Colab</a>\n",
    "</td>\n",
    "<td>\n",
    "<a href=\"https://github.com/google/or-tools/blob/main/ortools/linear_solver/samples/basic_example.py\"><img src=\"https://raw.githubusercontent.com/google/or-tools/main/tools/github_32px.png\"/>View source on GitHub</a>\n",
    "</td>\n",
    "</table>"
   ]
  },
  {
   "cell_type": "markdown",
   "id": "doc",
   "metadata": {},
   "source": [
    "First, you must install [ortools](https://pypi.org/project/ortools/) package in this colab."
   ]
  },
  {
   "cell_type": "code",
   "execution_count": null,
   "id": "install",
   "metadata": {},
   "outputs": [],
   "source": [
    "%pip install ortools"
   ]
  },
  {
   "cell_type": "markdown",
   "id": "description",
   "metadata": {},
   "source": [
    "\n",
    "Minimal example to call the GLOP solver."
   ]
  },
  {
   "cell_type": "code",
   "execution_count": null,
   "id": "code",
   "metadata": {},
   "outputs": [],
   "source": [
    "from ortools.init.python import init\n",
    "from ortools.linear_solver import pywraplp\n",
    "\n",
    "\n",
    "def main():\n",
    "    print(\"Google OR-Tools version:\", init.OrToolsVersion.version_string())\n",
    "\n",
    "    # Create the linear solver with the GLOP backend.\n",
    "    solver = pywraplp.Solver.CreateSolver(\"GLOP\")\n",
    "    if not solver:\n",
    "        print(\"Could not create solver GLOP\")\n",
    "        return\n",
    "\n",
    "    # Create the variables x and y.\n",
    "    x_var = solver.NumVar(0, 1, \"x\")\n",
    "    y_var = solver.NumVar(0, 2, \"y\")\n",
    "\n",
    "    print(\"Number of variables =\", solver.NumVariables())\n",
    "\n",
    "    infinity = solver.infinity()\n",
    "    # Create a linear constraint, x + y <= 2.\n",
    "    constraint = solver.Constraint(-infinity, 2, \"ct\")\n",
    "    constraint.SetCoefficient(x_var, 1)\n",
    "    constraint.SetCoefficient(y_var, 1)\n",
    "\n",
    "    print(\"Number of constraints =\", solver.NumConstraints())\n",
    "\n",
    "    # Create the objective function, 3 * x + y.\n",
    "    objective = solver.Objective()\n",
    "    objective.SetCoefficient(x_var, 3)\n",
    "    objective.SetCoefficient(y_var, 1)\n",
    "    objective.SetMaximization()\n",
    "\n",
    "    print(f\"Solving with {solver.SolverVersion()}\")\n",
    "    result_status = solver.Solve()\n",
    "\n",
    "    print(f\"Status: {result_status}\")\n",
    "    if result_status != pywraplp.Solver.OPTIMAL:\n",
    "        print(\"The problem does not have an optimal solution!\")\n",
    "        if result_status == pywraplp.Solver.FEASIBLE:\n",
    "            print(\"A potentially suboptimal solution was found\")\n",
    "        else:\n",
    "            print(\"The solver could not solve the problem.\")\n",
    "            return\n",
    "\n",
    "    print(\"Solution:\")\n",
    "    print(\"Objective value =\", objective.Value())\n",
    "    print(\"x =\", x_var.solution_value())\n",
    "    print(\"y =\", y_var.solution_value())\n",
    "\n",
    "    print(\"Advanced usage:\")\n",
    "    print(f\"Problem solved in {solver.wall_time():d} milliseconds\")\n",
    "    print(f\"Problem solved in {solver.iterations():d} iterations\")\n",
    "\n",
    "\n",
    "init.CppBridge.init_logging(\"basic_example.py\")\n",
    "cpp_flags = init.CppFlags()\n",
    "cpp_flags.stderrthreshold = True\n",
    "cpp_flags.log_prefix = False\n",
    "init.CppBridge.set_flags(cpp_flags)\n",
    "main()\n",
    "\n"
   ]
  }
 ],
 "metadata": {},
 "nbformat": 4,
 "nbformat_minor": 5
}
