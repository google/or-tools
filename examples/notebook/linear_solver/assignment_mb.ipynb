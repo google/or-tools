{
 "cells": [
  {
   "cell_type": "markdown",
   "id": "google",
   "metadata": {},
   "source": [
    "##### Copyright 2024 Google LLC."
   ]
  },
  {
   "cell_type": "markdown",
   "id": "apache",
   "metadata": {},
   "source": [
    "Licensed under the Apache License, Version 2.0 (the \"License\");\n",
    "you may not use this file except in compliance with the License.\n",
    "You may obtain a copy of the License at\n",
    "\n",
    "    http://www.apache.org/licenses/LICENSE-2.0\n",
    "\n",
    "Unless required by applicable law or agreed to in writing, software\n",
    "distributed under the License is distributed on an \"AS IS\" BASIS,\n",
    "WITHOUT WARRANTIES OR CONDITIONS OF ANY KIND, either express or implied.\n",
    "See the License for the specific language governing permissions and\n",
    "limitations under the License.\n"
   ]
  },
  {
   "cell_type": "markdown",
   "id": "basename",
   "metadata": {},
   "source": [
    "# assignment_mb"
   ]
  },
  {
   "cell_type": "markdown",
   "id": "link",
   "metadata": {},
   "source": [
    "<table align=\"left\">\n",
    "<td>\n",
    "<a href=\"https://colab.research.google.com/github/google/or-tools/blob/main/examples/notebook/linear_solver/assignment_mb.ipynb\"><img src=\"https://raw.githubusercontent.com/google/or-tools/main/tools/colab_32px.png\"/>Run in Google Colab</a>\n",
    "</td>\n",
    "<td>\n",
    "<a href=\"https://github.com/google/or-tools/blob/main/ortools/linear_solver/samples/assignment_mb.py\"><img src=\"https://raw.githubusercontent.com/google/or-tools/main/tools/github_32px.png\"/>View source on GitHub</a>\n",
    "</td>\n",
    "</table>"
   ]
  },
  {
   "cell_type": "markdown",
   "id": "doc",
   "metadata": {},
   "source": [
    "First, you must install [ortools](https://pypi.org/project/ortools/) package in this colab."
   ]
  },
  {
   "cell_type": "code",
   "execution_count": null,
   "id": "install",
   "metadata": {},
   "outputs": [],
   "source": [
    "%pip install ortools"
   ]
  },
  {
   "cell_type": "markdown",
   "id": "description",
   "metadata": {},
   "source": [
    "\n",
    "MIP example that solves an assignment problem."
   ]
  },
  {
   "cell_type": "code",
   "execution_count": null,
   "id": "code",
   "metadata": {},
   "outputs": [],
   "source": [
    "import io\n",
    "\n",
    "import pandas as pd\n",
    "\n",
    "from ortools.linear_solver.python import model_builder\n",
    "\n",
    "\n",
    "def main():\n",
    "    # Data\n",
    "    data_str = \"\"\"\n",
    "  worker  task  cost\n",
    "      w1    t1    90\n",
    "      w1    t2    80\n",
    "      w1    t3    75\n",
    "      w1    t4    70\n",
    "      w2    t1    35\n",
    "      w2    t2    85\n",
    "      w2    t3    55\n",
    "      w2    t4    65\n",
    "      w3    t1   125\n",
    "      w3    t2    95\n",
    "      w3    t3    90\n",
    "      w3    t4    95\n",
    "      w4    t1    45\n",
    "      w4    t2   110\n",
    "      w4    t3    95\n",
    "      w4    t4   115\n",
    "      w5    t1    50\n",
    "      w5    t2   110\n",
    "      w5    t3    90\n",
    "      w5    t4   100\n",
    "  \"\"\"\n",
    "\n",
    "    data = pd.read_table(io.StringIO(data_str), sep=r\"\\s+\")\n",
    "\n",
    "    # Create the model.\n",
    "    model = model_builder.Model()\n",
    "\n",
    "    # Variables\n",
    "    # x[i, j] is an array of 0-1 variables, which will be 1\n",
    "    # if worker i is assigned to task j.\n",
    "    x = model.new_bool_var_series(name=\"x\", index=data.index)\n",
    "\n",
    "    # Constraints\n",
    "    # Each worker is assigned to at most 1 task.\n",
    "    for unused_name, tasks in data.groupby(\"worker\"):\n",
    "        model.add(x[tasks.index].sum() <= 1)\n",
    "\n",
    "    # Each task is assigned to exactly one worker.\n",
    "    for unused_name, workers in data.groupby(\"task\"):\n",
    "        model.add(x[workers.index].sum() == 1)\n",
    "\n",
    "    # Objective\n",
    "    model.minimize(data.cost.dot(x))\n",
    "\n",
    "    # Create the solver with the CP-SAT backend, and solve the model.\n",
    "    solver = model_builder.Solver(\"sat\")\n",
    "    if not solver.solver_is_supported():\n",
    "        return\n",
    "    status = solver.solve(model)\n",
    "\n",
    "    # Print solution.\n",
    "    if (\n",
    "        status == model_builder.SolveStatus.OPTIMAL\n",
    "        or status == model_builder.SolveStatus.FEASIBLE\n",
    "    ):\n",
    "        print(f\"Total cost = {solver.objective_value}\\n\")\n",
    "        selected = data.loc[solver.values(x).loc[lambda x: x == 1].index]\n",
    "        for unused_index, row in selected.iterrows():\n",
    "            print(f\"{row.task} assigned to {row.worker} with a cost of {row.cost}\")\n",
    "    else:\n",
    "        print(\"No solution found.\")\n",
    "\n",
    "\n",
    "main()\n",
    "\n"
   ]
  }
 ],
 "metadata": {},
 "nbformat": 4,
 "nbformat_minor": 5
}
