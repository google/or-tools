{
 "cells": [
  {
   "cell_type": "markdown",
   "id": "google",
   "metadata": {},
   "source": [
    "##### Copyright 2022 Google LLC."
   ]
  },
  {
   "cell_type": "markdown",
   "id": "apache",
   "metadata": {},
   "source": [
    "Licensed under the Apache License, Version 2.0 (the \"License\");\n",
    "you may not use this file except in compliance with the License.\n",
    "You may obtain a copy of the License at\n",
    "\n",
    "    http://www.apache.org/licenses/LICENSE-2.0\n",
    "\n",
    "Unless required by applicable law or agreed to in writing, software\n",
    "distributed under the License is distributed on an \"AS IS\" BASIS,\n",
    "WITHOUT WARRANTIES OR CONDITIONS OF ANY KIND, either express or implied.\n",
    "See the License for the specific language governing permissions and\n",
    "limitations under the License.\n"
   ]
  },
  {
   "cell_type": "markdown",
   "id": "basename",
   "metadata": {},
   "source": [
    "# dudeney"
   ]
  },
  {
   "cell_type": "markdown",
   "id": "link",
   "metadata": {},
   "source": [
    "<table align=\"left\">\n",
    "<td>\n",
    "<a href=\"https://colab.research.google.com/github/google/or-tools/blob/main/examples/notebook/contrib/dudeney.ipynb\"><img src=\"https://raw.githubusercontent.com/google/or-tools/main/tools/colab_32px.png\"/>Run in Google Colab</a>\n",
    "</td>\n",
    "<td>\n",
    "<a href=\"https://github.com/google/or-tools/blob/main/examples/contrib/dudeney.py\"><img src=\"https://raw.githubusercontent.com/google/or-tools/main/tools/github_32px.png\"/>View source on GitHub</a>\n",
    "</td>\n",
    "</table>"
   ]
  },
  {
   "cell_type": "markdown",
   "id": "doc",
   "metadata": {},
   "source": [
    "First, you must install [ortools](https://pypi.org/project/ortools/) package in this colab."
   ]
  },
  {
   "cell_type": "code",
   "execution_count": null,
   "id": "install",
   "metadata": {},
   "outputs": [],
   "source": [
    "!pip install ortools"
   ]
  },
  {
   "cell_type": "code",
   "execution_count": null,
   "id": "code",
   "metadata": {},
   "outputs": [],
   "source": [
    "# Copyright 2010 Pierre Schaus (pschaus@gmail.com)\n",
    "# Licensed under the Apache License, Version 2.0 (the \"License\");\n",
    "# you may not use this file except in compliance with the License.\n",
    "# You may obtain a copy of the License at\n",
    "#\n",
    "#     http://www.apache.org/licenses/LICENSE-2.0\n",
    "#\n",
    "# Unless required by applicable law or agreed to in writing, software\n",
    "# distributed under the License is distributed on an \"AS IS\" BASIS,\n",
    "# WITHOUT WARRANTIES OR CONDITIONS OF ANY KIND, either express or implied.\n",
    "# See the License for the specific language governing permissions and\n",
    "# limitations under the License.\n",
    "from ortools.constraint_solver import pywrapcp\n",
    "\n",
    "\n",
    "def dudeney(n):\n",
    "  solver = pywrapcp.Solver('Dudeney')\n",
    "  x = [solver.IntVar(list(range(10)), 'x' + str(i)) for i in range(n)]\n",
    "  nb = solver.IntVar(list(range(3, 10**n)), 'nb')\n",
    "  s = solver.IntVar(list(range(1, 9 * n + 1)), 's')\n",
    "\n",
    "  solver.Add(nb == s * s * s)\n",
    "  solver.Add(sum([10**(n - i - 1) * x[i] for i in range(n)]) == nb)\n",
    "  solver.Add(sum([x[i] for i in range(n)]) == s)\n",
    "\n",
    "  solution = solver.Assignment()\n",
    "  solution.Add(nb)\n",
    "  collector = solver.AllSolutionCollector(solution)\n",
    "\n",
    "  solver.Solve(\n",
    "      solver.Phase(x, solver.INT_VAR_DEFAULT, solver.INT_VALUE_DEFAULT),\n",
    "      [collector])\n",
    "\n",
    "  for i in range(collector.SolutionCount()):\n",
    "    nbsol = collector.Value(i, nb)\n",
    "    print(nbsol)\n",
    "\n",
    "  print('#fails:', solver.Failures())\n",
    "  print('time:', solver.WallTime(), 'ms')\n",
    "\n",
    "\n",
    "dudeney(6)\n",
    "\n"
   ]
  }
 ],
 "metadata": {},
 "nbformat": 4,
 "nbformat_minor": 5
}
