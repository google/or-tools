{
 "cells": [
  {
   "cell_type": "markdown",
   "id": "google",
   "metadata": {},
   "source": [
    "##### Copyright 2022 Google LLC."
   ]
  },
  {
   "cell_type": "markdown",
   "id": "apache",
   "metadata": {},
   "source": [
    "Licensed under the Apache License, Version 2.0 (the \"License\");\n",
    "you may not use this file except in compliance with the License.\n",
    "You may obtain a copy of the License at\n",
    "\n",
    "    http://www.apache.org/licenses/LICENSE-2.0\n",
    "\n",
    "Unless required by applicable law or agreed to in writing, software\n",
    "distributed under the License is distributed on an \"AS IS\" BASIS,\n",
    "WITHOUT WARRANTIES OR CONDITIONS OF ANY KIND, either express or implied.\n",
    "See the License for the specific language governing permissions and\n",
    "limitations under the License.\n"
   ]
  },
  {
   "cell_type": "markdown",
   "id": "basename",
   "metadata": {},
   "source": [
    "# send_more_money_any_base"
   ]
  },
  {
   "cell_type": "markdown",
   "id": "link",
   "metadata": {},
   "source": [
    "<table align=\"left\">\n",
    "<td>\n",
    "<a href=\"https://colab.research.google.com/github/google/or-tools/blob/main/examples/notebook/contrib/send_more_money_any_base.ipynb\"><img src=\"https://raw.githubusercontent.com/google/or-tools/main/tools/colab_32px.png\"/>Run in Google Colab</a>\n",
    "</td>\n",
    "<td>\n",
    "<a href=\"https://github.com/google/or-tools/blob/main/examples/contrib/send_more_money_any_base.py\"><img src=\"https://raw.githubusercontent.com/google/or-tools/main/tools/github_32px.png\"/>View source on GitHub</a>\n",
    "</td>\n",
    "</table>"
   ]
  },
  {
   "cell_type": "markdown",
   "id": "doc",
   "metadata": {},
   "source": [
    "First, you must install [ortools](https://pypi.org/project/ortools/) package in this colab."
   ]
  },
  {
   "cell_type": "code",
   "execution_count": null,
   "id": "install",
   "metadata": {},
   "outputs": [],
   "source": [
    "!pip install ortools"
   ]
  },
  {
   "cell_type": "markdown",
   "id": "description",
   "metadata": {},
   "source": [
    "\n",
    "\n",
    "  SEND+MORE=MONEY in 'any' base in Google CP Solver.\n",
    "\n",
    "  Alphametic problem SEND+MORE=MONEY in any base.\n",
    "\n",
    "  Examples:\n",
    "  Base 10 has one solution:\n",
    "     {9, 5, 6, 7, 1, 0, 8, 2}\n",
    "  Base 11 has three soltutions:\n",
    "     {10, 5, 6, 8, 1, 0, 9, 2}\n",
    "     {10, 6, 7, 8, 1, 0, 9, 3}\n",
    "     {10, 7, 8, 6, 1, 0, 9, 2}\n",
    "\n",
    "  Also, compare with the following models:\n",
    "  * Comet   : http://www.hakank.org/comet/send_more_money_any_base.co\n",
    "  * ECLiPSE : http://www.hakank.org/eclipse/send_more_money_any_base.ecl\n",
    "  * Essence : http://www.hakank.org/tailor/send_more_money_any_base.eprime\n",
    "  * Gecode  : http://www.hakank.org/gecode/send_more_money_any_base.cpp\n",
    "  * Gecode/R: http://www.hakank.org/gecode_r/send_more_money_any_base.rb\n",
    "  * MiniZinc: http://www.hakank.org/minizinc/send_more_money_any_base.mzn\n",
    "  * Zinc: http://www.hakank.org/minizinc/send_more_money_any_base.zinc\n",
    "  * SICStus: http://www.hakank.org/sicstus/send_more_money_any_base.pl\n",
    "\n",
    "\n",
    "  This model was created by Hakan Kjellerstrand (hakank@gmail.com)\n",
    "  Also see my other Google CP Solver models:\n",
    "  http://www.hakank.org/google_or_tools/\n",
    "\n"
   ]
  },
  {
   "cell_type": "code",
   "execution_count": null,
   "id": "code",
   "metadata": {},
   "outputs": [],
   "source": [
    "import sys\n",
    "from ortools.constraint_solver import pywrapcp\n",
    "\n",
    "\n",
    "def main(base=10):\n",
    "\n",
    "  # Create the solver.\n",
    "  solver = pywrapcp.Solver('Send most money')\n",
    "\n",
    "  # data\n",
    "  print('base:', base)\n",
    "\n",
    "  # declare variables\n",
    "  s = solver.IntVar(0, base - 1, 's')\n",
    "  e = solver.IntVar(0, base - 1, 'e')\n",
    "  n = solver.IntVar(0, base - 1, 'n')\n",
    "  d = solver.IntVar(0, base - 1, 'd')\n",
    "  m = solver.IntVar(0, base - 1, 'm')\n",
    "  o = solver.IntVar(0, base - 1, 'o')\n",
    "  r = solver.IntVar(0, base - 1, 'r')\n",
    "  y = solver.IntVar(0, base - 1, 'y')\n",
    "\n",
    "  x = [s, e, n, d, m, o, r, y]\n",
    "\n",
    "  #\n",
    "  # constraints\n",
    "  #\n",
    "  solver.Add(solver.AllDifferent(x))\n",
    "  solver.Add(\n",
    "      s * base**3 + e * base**2 + n * base + d + m * base**3 + o * base**2 +\n",
    "      r * base + e == m * base**4 + o * base**3 + n * base**2 + e * base + y,)\n",
    "  solver.Add(s > 0)\n",
    "  solver.Add(m > 0)\n",
    "\n",
    "  #\n",
    "  # solution and search\n",
    "  #\n",
    "  solution = solver.Assignment()\n",
    "  solution.Add(x)\n",
    "\n",
    "  collector = solver.AllSolutionCollector(solution)\n",
    "\n",
    "  solver.Solve(\n",
    "      solver.Phase(x, solver.CHOOSE_FIRST_UNBOUND, solver.ASSIGN_MAX_VALUE),\n",
    "      [collector])\n",
    "\n",
    "  num_solutions = collector.SolutionCount()\n",
    "  money_val = 0\n",
    "  for s in range(num_solutions):\n",
    "    print('x:', [collector.Value(s, x[i]) for i in range(len(x))])\n",
    "\n",
    "  print()\n",
    "  print('num_solutions:', num_solutions)\n",
    "  print('failures:', solver.Failures())\n",
    "  print('branches:', solver.Branches())\n",
    "  print('WallTime:', solver.WallTime())\n",
    "  print()\n",
    "\n",
    "\n",
    "base = 10\n",
    "# for base in range(10,30):\n",
    "#    main(base)\n",
    "if len(sys.argv) > 1:\n",
    "  base = int(sys.argv[1])\n",
    "\n",
    "main(base)\n",
    "\n"
   ]
  }
 ],
 "metadata": {},
 "nbformat": 4,
 "nbformat_minor": 5
}
