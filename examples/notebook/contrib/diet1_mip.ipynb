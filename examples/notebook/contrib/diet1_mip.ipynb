{
 "cells": [
  {
   "cell_type": "markdown",
   "id": "google",
   "metadata": {},
   "source": [
    "##### Copyright 2022 Google LLC."
   ]
  },
  {
   "cell_type": "markdown",
   "id": "apache",
   "metadata": {},
   "source": [
    "Licensed under the Apache License, Version 2.0 (the \"License\");\n",
    "you may not use this file except in compliance with the License.\n",
    "You may obtain a copy of the License at\n",
    "\n",
    "    http://www.apache.org/licenses/LICENSE-2.0\n",
    "\n",
    "Unless required by applicable law or agreed to in writing, software\n",
    "distributed under the License is distributed on an \"AS IS\" BASIS,\n",
    "WITHOUT WARRANTIES OR CONDITIONS OF ANY KIND, either express or implied.\n",
    "See the License for the specific language governing permissions and\n",
    "limitations under the License.\n"
   ]
  },
  {
   "cell_type": "markdown",
   "id": "basename",
   "metadata": {},
   "source": [
    "# diet1_mip"
   ]
  },
  {
   "cell_type": "markdown",
   "id": "link",
   "metadata": {},
   "source": [
    "<table align=\"left\">\n",
    "<td>\n",
    "<a href=\"https://colab.research.google.com/github/google/or-tools/blob/main/examples/notebook/contrib/diet1_mip.ipynb\"><img src=\"https://raw.githubusercontent.com/google/or-tools/main/tools/colab_32px.png\"/>Run in Google Colab</a>\n",
    "</td>\n",
    "<td>\n",
    "<a href=\"https://github.com/google/or-tools/blob/main/examples/contrib/diet1_mip.py\"><img src=\"https://raw.githubusercontent.com/google/or-tools/main/tools/github_32px.png\"/>View source on GitHub</a>\n",
    "</td>\n",
    "</table>"
   ]
  },
  {
   "cell_type": "markdown",
   "id": "doc",
   "metadata": {},
   "source": [
    "First, you must install [ortools](https://pypi.org/project/ortools/) package in this colab."
   ]
  },
  {
   "cell_type": "code",
   "execution_count": null,
   "id": "install",
   "metadata": {},
   "outputs": [],
   "source": [
    "!pip install ortools"
   ]
  },
  {
   "cell_type": "markdown",
   "id": "description",
   "metadata": {},
   "source": [
    "\n",
    "\n",
    "  Simple diet problem using MIP in Google CP Solver.\n",
    "\n",
    "  Standard Operations Research example.\n",
    "\n",
    "\n",
    "  Minimize the cost for the products:\n",
    "  Type of                        Calories   Chocolate    Sugar    Fat\n",
    "  Food                                      (ounces)     (ounces) (ounces)\n",
    "  Chocolate Cake (1 slice)       400           3            2      2\n",
    "  Chocolate ice cream (1 scoop)  200           2            2      4\n",
    "  Cola (1 bottle)                150           0            4      1\n",
    "  Pineapple cheesecake (1 piece) 500           0            4      5\n",
    "\n",
    "  Compare with the CP model:\n",
    "    http://www.hakank.org/google_or_tools/diet1.py\n",
    "\n",
    "\n",
    "  This model was created by Hakan Kjellerstrand (hakank@gmail.com)\n",
    "  Also see my other Google CP Solver models:\n",
    "  http://www.hakank.org/google_or_tools/\n"
   ]
  },
  {
   "cell_type": "code",
   "execution_count": null,
   "id": "code",
   "metadata": {},
   "outputs": [],
   "source": [
    "import sys\n",
    "from ortools.linear_solver import pywraplp\n",
    "\n",
    "\n",
    "def main(sol='CBC'):\n",
    "\n",
    "  # Create the solver.\n",
    "\n",
    "  print('Solver: ', sol)\n",
    "  solver = pywraplp.Solver.CreateSolver(sol)\n",
    "  if not solver:\n",
    "    return\n",
    "\n",
    "  #\n",
    "  # data\n",
    "  #\n",
    "  n = 4\n",
    "  price = [50, 20, 30, 80]  # in cents\n",
    "  limits = [500, 6, 10, 8]  # requirements for each nutrition type\n",
    "\n",
    "  # nutritions for each product\n",
    "  calories = [400, 200, 150, 500]\n",
    "  chocolate = [3, 2, 0, 0]\n",
    "  sugar = [2, 2, 4, 4]\n",
    "  fat = [2, 4, 1, 5]\n",
    "\n",
    "  #\n",
    "  # declare variables\n",
    "  #\n",
    "  x = [solver.IntVar(0, 100, 'x%d' % i) for i in range(n)]\n",
    "  cost = solver.Sum([x[i] * price[i] for i in range(n)])\n",
    "\n",
    "  #\n",
    "  # constraints\n",
    "  #\n",
    "  solver.Add(solver.Sum([x[i] * calories[i] for i in range(n)]) >= limits[0])\n",
    "  solver.Add(solver.Sum([x[i] * chocolate[i] for i in range(n)]) >= limits[1])\n",
    "  solver.Add(solver.Sum([x[i] * sugar[i] for i in range(n)]) >= limits[2])\n",
    "  solver.Add(solver.Sum([x[i] * fat[i] for i in range(n)]) >= limits[3])\n",
    "\n",
    "  # objective\n",
    "  objective = solver.Minimize(cost)\n",
    "\n",
    "  #\n",
    "  # solution\n",
    "  #\n",
    "  solver.Solve()\n",
    "\n",
    "  print('Cost:', solver.Objective().Value())\n",
    "  print([int(x[i].SolutionValue()) for i in range(n)])\n",
    "\n",
    "  print()\n",
    "  print('WallTime:', solver.WallTime())\n",
    "  if sol == 'CBC':\n",
    "    print('iterations:', solver.Iterations())\n",
    "\n",
    "\n",
    "\n",
    "sol = 'CBC'\n",
    "if len(sys.argv) > 1:\n",
    "  sol = sys.argv[1]\n",
    "  if sol != 'GLPK' and sol != 'CBC':\n",
    "    print('Solver must be either GLPK or CBC')\n",
    "    sys.exit(1)\n",
    "\n",
    "main(sol)\n",
    "\n"
   ]
  }
 ],
 "metadata": {},
 "nbformat": 4,
 "nbformat_minor": 5
}
