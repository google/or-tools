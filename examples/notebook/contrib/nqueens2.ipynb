{
 "cells": [
  {
   "cell_type": "markdown",
   "id": "google",
   "metadata": {},
   "source": [
    "##### Copyright 2022 Google LLC."
   ]
  },
  {
   "cell_type": "markdown",
   "id": "apache",
   "metadata": {},
   "source": [
    "Licensed under the Apache License, Version 2.0 (the \"License\");\n",
    "you may not use this file except in compliance with the License.\n",
    "You may obtain a copy of the License at\n",
    "\n",
    "    http://www.apache.org/licenses/LICENSE-2.0\n",
    "\n",
    "Unless required by applicable law or agreed to in writing, software\n",
    "distributed under the License is distributed on an \"AS IS\" BASIS,\n",
    "WITHOUT WARRANTIES OR CONDITIONS OF ANY KIND, either express or implied.\n",
    "See the License for the specific language governing permissions and\n",
    "limitations under the License.\n"
   ]
  },
  {
   "cell_type": "markdown",
   "id": "basename",
   "metadata": {},
   "source": [
    "# nqueens2"
   ]
  },
  {
   "cell_type": "markdown",
   "id": "link",
   "metadata": {},
   "source": [
    "<table align=\"left\">\n",
    "<td>\n",
    "<a href=\"https://colab.research.google.com/github/google/or-tools/blob/main/examples/notebook/contrib/nqueens2.ipynb\"><img src=\"https://raw.githubusercontent.com/google/or-tools/main/tools/colab_32px.png\"/>Run in Google Colab</a>\n",
    "</td>\n",
    "<td>\n",
    "<a href=\"https://github.com/google/or-tools/blob/main/examples/contrib/nqueens2.py\"><img src=\"https://raw.githubusercontent.com/google/or-tools/main/tools/github_32px.png\"/>View source on GitHub</a>\n",
    "</td>\n",
    "</table>"
   ]
  },
  {
   "cell_type": "markdown",
   "id": "doc",
   "metadata": {},
   "source": [
    "First, you must install [ortools](https://pypi.org/project/ortools/) package in this colab."
   ]
  },
  {
   "cell_type": "code",
   "execution_count": null,
   "id": "install",
   "metadata": {},
   "outputs": [],
   "source": [
    "!pip install ortools"
   ]
  },
  {
   "cell_type": "markdown",
   "id": "description",
   "metadata": {},
   "source": [
    "\n",
    "\n",
    "  n-queens problem in Google CP Solver.\n",
    "\n",
    "  N queens problem.\n",
    "\n",
    "  This version use NewSearch()/NextSolution() for looping through\n",
    "  the solutions.\n",
    "\n",
    "  This model was created by Hakan Kjellerstrand (hakank@gmail.com)\n",
    "  Also see my other Google CP Solver models:\n",
    "  http://www.hakank.org/google_or_tools/\n"
   ]
  },
  {
   "cell_type": "code",
   "execution_count": null,
   "id": "code",
   "metadata": {},
   "outputs": [],
   "source": [
    "import sys\n",
    "from ortools.constraint_solver import pywrapcp\n",
    "\n",
    "\n",
    "def main(n=8):\n",
    "  # Create the solver.\n",
    "  solver = pywrapcp.Solver(\"n-queens\")\n",
    "\n",
    "  #\n",
    "  # data\n",
    "  #\n",
    "  # n = 8 # size of board (n x n)\n",
    "\n",
    "  # declare variables\n",
    "  q = [solver.IntVar(0, n - 1, \"x%i\" % i) for i in range(n)]\n",
    "\n",
    "  #\n",
    "  # constraints\n",
    "  #\n",
    "  solver.Add(solver.AllDifferent(q))\n",
    "  for i in range(n):\n",
    "    for j in range(i):\n",
    "      solver.Add(q[i] != q[j])\n",
    "      solver.Add(q[i] + i != q[j] + j)\n",
    "      solver.Add(q[i] - i != q[j] - j)\n",
    "\n",
    "  # for i in range(n):\n",
    "  #     for j in range(i):\n",
    "  #         solver.Add(abs(q[i]-q[j]) != abs(i-j))\n",
    "\n",
    "  # symmetry breaking\n",
    "  # solver.Add(q[0] == 0)\n",
    "\n",
    "  #\n",
    "  # solution and search\n",
    "  #\n",
    "  solution = solver.Assignment()\n",
    "  solution.Add([q[i] for i in range(n)])\n",
    "\n",
    "  # db: DecisionBuilder\n",
    "  db = solver.Phase(\n",
    "      [q[i] for i in range(n)],\n",
    "      # solver.CHOOSE_FIRST_UNBOUND,\n",
    "      solver.CHOOSE_MIN_SIZE_LOWEST_MAX,\n",
    "      solver.ASSIGN_CENTER_VALUE)\n",
    "\n",
    "  solver.NewSearch(db)\n",
    "  num_solutions = 0\n",
    "  while solver.NextSolution():\n",
    "    qval = [q[i].Value() for i in range(n)]\n",
    "    print(\"q:\", qval)\n",
    "    for i in range(n):\n",
    "      for j in range(n):\n",
    "        if qval[i] == j:\n",
    "          print(\"Q\", end=\" \")\n",
    "        else:\n",
    "          print(\"_\", end=\" \")\n",
    "      print()\n",
    "    print()\n",
    "    num_solutions += 1\n",
    "  solver.EndSearch()\n",
    "\n",
    "  print()\n",
    "  print(\"num_solutions:\", num_solutions)\n",
    "  print(\"failures:\", solver.Failures())\n",
    "  print(\"branches:\", solver.Branches())\n",
    "  print(\"WallTime:\", solver.WallTime())\n",
    "\n",
    "\n",
    "n = 8\n",
    "if len(sys.argv) > 1:\n",
    "  n = int(sys.argv[1])\n",
    "main(n)\n",
    "\n"
   ]
  }
 ],
 "metadata": {},
 "nbformat": 4,
 "nbformat_minor": 5
}
