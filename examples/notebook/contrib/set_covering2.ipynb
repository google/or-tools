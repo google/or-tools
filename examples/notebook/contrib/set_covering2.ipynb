{
 "cells": [
  {
   "cell_type": "markdown",
   "id": "google",
   "metadata": {},
   "source": [
    "##### Copyright 2022 Google LLC."
   ]
  },
  {
   "cell_type": "markdown",
   "id": "apache",
   "metadata": {},
   "source": [
    "Licensed under the Apache License, Version 2.0 (the \"License\");\n",
    "you may not use this file except in compliance with the License.\n",
    "You may obtain a copy of the License at\n",
    "\n",
    "    http://www.apache.org/licenses/LICENSE-2.0\n",
    "\n",
    "Unless required by applicable law or agreed to in writing, software\n",
    "distributed under the License is distributed on an \"AS IS\" BASIS,\n",
    "WITHOUT WARRANTIES OR CONDITIONS OF ANY KIND, either express or implied.\n",
    "See the License for the specific language governing permissions and\n",
    "limitations under the License.\n"
   ]
  },
  {
   "cell_type": "markdown",
   "id": "basename",
   "metadata": {},
   "source": [
    "# set_covering2"
   ]
  },
  {
   "cell_type": "markdown",
   "id": "link",
   "metadata": {},
   "source": [
    "<table align=\"left\">\n",
    "<td>\n",
    "<a href=\"https://colab.research.google.com/github/google/or-tools/blob/main/examples/notebook/contrib/set_covering2.ipynb\"><img src=\"https://raw.githubusercontent.com/google/or-tools/main/tools/colab_32px.png\"/>Run in Google Colab</a>\n",
    "</td>\n",
    "<td>\n",
    "<a href=\"https://github.com/google/or-tools/blob/main/examples/contrib/set_covering2.py\"><img src=\"https://raw.githubusercontent.com/google/or-tools/main/tools/github_32px.png\"/>View source on GitHub</a>\n",
    "</td>\n",
    "</table>"
   ]
  },
  {
   "cell_type": "markdown",
   "id": "doc",
   "metadata": {},
   "source": [
    "First, you must install [ortools](https://pypi.org/project/ortools/) package in this colab."
   ]
  },
  {
   "cell_type": "code",
   "execution_count": null,
   "id": "install",
   "metadata": {},
   "outputs": [],
   "source": [
    "!pip install ortools"
   ]
  },
  {
   "cell_type": "markdown",
   "id": "description",
   "metadata": {},
   "source": [
    "\n",
    "\n",
    "  Set covering in Google CP Solver.\n",
    "\n",
    "  Example 9.1-2, page 354ff, from\n",
    "  Taha 'Operations Research - An Introduction'\n",
    "  Minimize the number of security telephones in street\n",
    "  corners on a campus.\n",
    "\n",
    "  Compare with the following models:\n",
    "  * MiniZinc: http://www.hakank.org/minizinc/set_covering2.mzn\n",
    "  * Comet   : http://www.hakank.org/comet/set_covering2.co\n",
    "  * ECLiPSe : http://www.hakank.org/eclipse/set_covering2.ecl\n",
    "  * SICStus: http://hakank.org/sicstus/set_covering2.pl\n",
    "  * Gecode: http://hakank.org/gecode/set_covering2.cpp\n",
    "\n",
    "  This model was created by Hakan Kjellerstrand (hakank@gmail.com)\n",
    "  Also see my other Google CP Solver models:\n",
    "  http://www.hakank.org/google_or_tools/\n",
    "\n"
   ]
  },
  {
   "cell_type": "code",
   "execution_count": null,
   "id": "code",
   "metadata": {},
   "outputs": [],
   "source": [
    "from ortools.constraint_solver import pywrapcp\n",
    "\n",
    "\n",
    "def main(unused_argv):\n",
    "\n",
    "  # Create the solver.\n",
    "  solver = pywrapcp.Solver(\"Set covering\")\n",
    "\n",
    "  #\n",
    "  # data\n",
    "  #\n",
    "  n = 8  # maximum number of corners\n",
    "  num_streets = 11  # number of connected streets\n",
    "\n",
    "  # corners of each street\n",
    "  # Note: 1-based (handled below)\n",
    "  corner = [[1, 2], [2, 3], [4, 5], [7, 8], [6, 7], [2, 6], [1, 6], [4, 7],\n",
    "            [2, 4], [5, 8], [3, 5]]\n",
    "\n",
    "  #\n",
    "  # declare variables\n",
    "  #\n",
    "  x = [solver.IntVar(0, 1, \"x[%i]\" % i) for i in range(n)]\n",
    "\n",
    "  #\n",
    "  # constraints\n",
    "  #\n",
    "\n",
    "  # number of telephones, to be minimized\n",
    "  z = solver.Sum(x)\n",
    "\n",
    "  # ensure that all corners are covered\n",
    "  for i in range(num_streets):\n",
    "    # also, convert to 0-based\n",
    "    solver.Add(solver.SumGreaterOrEqual([x[j - 1] for j in corner[i]], 1))\n",
    "\n",
    "  objective = solver.Minimize(z, 1)\n",
    "\n",
    "  #\n",
    "  # solution and search\n",
    "  #\n",
    "  solution = solver.Assignment()\n",
    "  solution.Add(x)\n",
    "  solution.AddObjective(z)\n",
    "\n",
    "  collector = solver.LastSolutionCollector(solution)\n",
    "  solver.Solve(\n",
    "      solver.Phase(x, solver.INT_VAR_DEFAULT, solver.INT_VALUE_DEFAULT),\n",
    "      [collector, objective])\n",
    "\n",
    "  print(\"z:\", collector.ObjectiveValue(0))\n",
    "  print(\"x:\", [collector.Value(0, x[i]) for i in range(n)])\n",
    "\n",
    "  print(\"failures:\", solver.Failures())\n",
    "  print(\"branches:\", solver.Branches())\n",
    "  print(\"WallTime:\", solver.WallTime())\n",
    "\n",
    "\n",
    "main(\"cp sample\")\n",
    "\n"
   ]
  }
 ],
 "metadata": {},
 "nbformat": 4,
 "nbformat_minor": 5
}
