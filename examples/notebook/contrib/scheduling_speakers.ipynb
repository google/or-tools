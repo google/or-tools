{
 "cells": [
  {
   "cell_type": "markdown",
   "id": "google",
   "metadata": {},
   "source": [
    "##### Copyright 2022 Google LLC."
   ]
  },
  {
   "cell_type": "markdown",
   "id": "apache",
   "metadata": {},
   "source": [
    "Licensed under the Apache License, Version 2.0 (the \"License\");\n",
    "you may not use this file except in compliance with the License.\n",
    "You may obtain a copy of the License at\n",
    "\n",
    "    http://www.apache.org/licenses/LICENSE-2.0\n",
    "\n",
    "Unless required by applicable law or agreed to in writing, software\n",
    "distributed under the License is distributed on an \"AS IS\" BASIS,\n",
    "WITHOUT WARRANTIES OR CONDITIONS OF ANY KIND, either express or implied.\n",
    "See the License for the specific language governing permissions and\n",
    "limitations under the License.\n"
   ]
  },
  {
   "cell_type": "markdown",
   "id": "basename",
   "metadata": {},
   "source": [
    "# scheduling_speakers"
   ]
  },
  {
   "cell_type": "markdown",
   "id": "link",
   "metadata": {},
   "source": [
    "<table align=\"left\">\n",
    "<td>\n",
    "<a href=\"https://colab.research.google.com/github/google/or-tools/blob/main/examples/notebook/contrib/scheduling_speakers.ipynb\"><img src=\"https://raw.githubusercontent.com/google/or-tools/main/tools/colab_32px.png\"/>Run in Google Colab</a>\n",
    "</td>\n",
    "<td>\n",
    "<a href=\"https://github.com/google/or-tools/blob/main/examples/contrib/scheduling_speakers.py\"><img src=\"https://raw.githubusercontent.com/google/or-tools/main/tools/github_32px.png\"/>View source on GitHub</a>\n",
    "</td>\n",
    "</table>"
   ]
  },
  {
   "cell_type": "markdown",
   "id": "doc",
   "metadata": {},
   "source": [
    "First, you must install [ortools](https://pypi.org/project/ortools/) package in this colab."
   ]
  },
  {
   "cell_type": "code",
   "execution_count": null,
   "id": "install",
   "metadata": {},
   "outputs": [],
   "source": [
    "!pip install ortools"
   ]
  },
  {
   "cell_type": "markdown",
   "id": "description",
   "metadata": {},
   "source": [
    "\n",
    "\n",
    "  Scheduling speakers problem in Google CP Solver.\n",
    "\n",
    "  From Rina Dechter, Constraint Processing, page 72\n",
    "  Scheduling of 6 speakers in 6 slots.\n",
    "\n",
    "  Compare with the following models:\n",
    "  * MiniZinc: http://www.hakank.org/minizinc/scheduling_speakers.mzn\n",
    "  * SICStus Prolog: http://www.hakank.org/sicstus/scheduling_speakers.pl\n",
    "  * ECLiPSe: http://hakank.org/eclipse/scheduling_speakers.ecl\n",
    "  * Gecode: http://hakank.org/gecode/scheduling_speakers.cpp\n",
    "\n",
    "  This model was created by Hakan Kjellerstrand (hakank@gmail.com)\n",
    "  Also see my other Google CP Solver models:\n",
    "  http://www.hakank.org/google_or_tools/\n"
   ]
  },
  {
   "cell_type": "code",
   "execution_count": null,
   "id": "code",
   "metadata": {},
   "outputs": [],
   "source": [
    "from ortools.constraint_solver import pywrapcp\n",
    "\n",
    "\n",
    "def main():\n",
    "\n",
    "  # Create the solver.\n",
    "  solver = pywrapcp.Solver('Scheduling speakers')\n",
    "\n",
    "  #\n",
    "  # data\n",
    "  #\n",
    "  n = 6  # number of speakers\n",
    "\n",
    "  # slots available to speak\n",
    "  available = [\n",
    "      # Reasoning:\n",
    "      [3, 4, 5, 6],  # 2) the only one with 6 after speaker F -> 1\n",
    "      [3, 4],  # 5) 3 or 4\n",
    "      [2, 3, 4, 5],  # 3) only with 5 after F -> 1 and A -> 6\n",
    "      [2, 3, 4],  # 4) only with 2 after C -> 5 and F -> 1\n",
    "      [3, 4],  # 5) 3 or 4\n",
    "      [1, 2, 3, 4, 5, 6]  # 1) the only with 1\n",
    "  ]\n",
    "\n",
    "  #\n",
    "  # variables\n",
    "  #\n",
    "  x = [solver.IntVar(1, n, 'x[%i]' % i) for i in range(n)]\n",
    "\n",
    "  #\n",
    "  # constraints\n",
    "  #\n",
    "  solver.Add(solver.AllDifferent(x))\n",
    "\n",
    "  for i in range(n):\n",
    "    solver.Add(solver.MemberCt(x[i], available[i]))\n",
    "\n",
    "  #\n",
    "  # search and result\n",
    "  #\n",
    "  db = solver.Phase(x, solver.INT_VAR_DEFAULT, solver.INT_VALUE_DEFAULT)\n",
    "\n",
    "  solver.NewSearch(db)\n",
    "\n",
    "  num_solutions = 0\n",
    "\n",
    "  while solver.NextSolution():\n",
    "    num_solutions += 1\n",
    "    print('x:', [x[i].Value() for i in range(n)])\n",
    "\n",
    "  solver.EndSearch()\n",
    "\n",
    "  print()\n",
    "  print('num_solutions:', num_solutions)\n",
    "  print('failures:', solver.Failures())\n",
    "  print('branches:', solver.Branches())\n",
    "  print('WallTime:', solver.WallTime(), 'ms')\n",
    "\n",
    "\n",
    "main()\n",
    "\n"
   ]
  }
 ],
 "metadata": {},
 "nbformat": 4,
 "nbformat_minor": 5
}
