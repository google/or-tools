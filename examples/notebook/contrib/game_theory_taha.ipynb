{
 "cells": [
  {
   "cell_type": "markdown",
   "id": "google",
   "metadata": {},
   "source": [
    "##### Copyright 2022 Google LLC."
   ]
  },
  {
   "cell_type": "markdown",
   "id": "apache",
   "metadata": {},
   "source": [
    "Licensed under the Apache License, Version 2.0 (the \"License\");\n",
    "you may not use this file except in compliance with the License.\n",
    "You may obtain a copy of the License at\n",
    "\n",
    "    http://www.apache.org/licenses/LICENSE-2.0\n",
    "\n",
    "Unless required by applicable law or agreed to in writing, software\n",
    "distributed under the License is distributed on an \"AS IS\" BASIS,\n",
    "WITHOUT WARRANTIES OR CONDITIONS OF ANY KIND, either express or implied.\n",
    "See the License for the specific language governing permissions and\n",
    "limitations under the License.\n"
   ]
  },
  {
   "cell_type": "markdown",
   "id": "basename",
   "metadata": {},
   "source": [
    "# game_theory_taha"
   ]
  },
  {
   "cell_type": "markdown",
   "id": "link",
   "metadata": {},
   "source": [
    "<table align=\"left\">\n",
    "<td>\n",
    "<a href=\"https://colab.research.google.com/github/google/or-tools/blob/main/examples/notebook/contrib/game_theory_taha.ipynb\"><img src=\"https://raw.githubusercontent.com/google/or-tools/main/tools/colab_32px.png\"/>Run in Google Colab</a>\n",
    "</td>\n",
    "<td>\n",
    "<a href=\"https://github.com/google/or-tools/blob/main/examples/contrib/game_theory_taha.py\"><img src=\"https://raw.githubusercontent.com/google/or-tools/main/tools/github_32px.png\"/>View source on GitHub</a>\n",
    "</td>\n",
    "</table>"
   ]
  },
  {
   "cell_type": "markdown",
   "id": "doc",
   "metadata": {},
   "source": [
    "First, you must install [ortools](https://pypi.org/project/ortools/) package in this colab."
   ]
  },
  {
   "cell_type": "code",
   "execution_count": null,
   "id": "install",
   "metadata": {},
   "outputs": [],
   "source": [
    "!pip install ortools"
   ]
  },
  {
   "cell_type": "markdown",
   "id": "description",
   "metadata": {},
   "source": [
    "\n",
    "\n",
    "  Game theory in Google or-tools.\n",
    "\n",
    "  2 player zero sum game.\n",
    "\n",
    "  From Taha, Operations Research (8'th edition), page 528.\n",
    "\n",
    "  This model was created by Hakan Kjellerstrand (hakank@gmail.com)\n",
    "  Also see my other Google CP Solver models:\n",
    "  http://www.hakank.org/google_or_tools/\n"
   ]
  },
  {
   "cell_type": "code",
   "execution_count": null,
   "id": "code",
   "metadata": {},
   "outputs": [],
   "source": [
    "import sys\n",
    "from ortools.linear_solver import pywraplp\n",
    "\n",
    "\n",
    "def main(sol='CBC'):\n",
    "\n",
    "  # Create the solver.\n",
    "  solver = pywraplp.Solver.CreateSolver(sol)\n",
    "  if not solver:\n",
    "    return\n",
    "\n",
    "  # data\n",
    "  rows = 3\n",
    "  cols = 3\n",
    "\n",
    "  game = [[3.0, -1.0, -3.0], [-2.0, 4.0, -1.0], [-5.0, -6.0, 2.0]]\n",
    "\n",
    "  #\n",
    "  # declare variables\n",
    "  #\n",
    "\n",
    "  #\n",
    "  # row player\n",
    "  #\n",
    "  x1 = [solver.NumVar(0, 1, 'x1[%i]' % i) for i in range(rows)]\n",
    "\n",
    "  v = solver.NumVar(-2, 2, 'v')\n",
    "\n",
    "  for i in range(rows):\n",
    "    solver.Add(v - solver.Sum([x1[j] * game[j][i] for j in range(cols)]) <= 0)\n",
    "\n",
    "  solver.Add(solver.Sum(x1) == 1)\n",
    "\n",
    "  objective = solver.Maximize(v)\n",
    "\n",
    "  solver.Solve()\n",
    "\n",
    "  print()\n",
    "  print('row player:')\n",
    "  print('v = ', solver.Objective().Value())\n",
    "  print('Strategies: ')\n",
    "  for i in range(rows):\n",
    "    print(x1[i].SolutionValue(), end=' ')\n",
    "  print()\n",
    "  print()\n",
    "\n",
    "  #\n",
    "  # For column player:\n",
    "  #\n",
    "  x2 = [solver.NumVar(0, 1, 'x2[%i]' % i) for i in range(cols)]\n",
    "\n",
    "  v2 = solver.NumVar(-2, 2, 'v2')\n",
    "\n",
    "  for i in range(cols):\n",
    "    solver.Add(v2 - solver.Sum([x2[j] * game[i][j] for j in range(rows)]) >= 0)\n",
    "\n",
    "  solver.Add(solver.Sum(x2) == 1)\n",
    "\n",
    "  objective = solver.Minimize(v2)\n",
    "\n",
    "  solver.Solve()\n",
    "\n",
    "  print()\n",
    "  print('column player:')\n",
    "  print('v2 = ', solver.Objective().Value())\n",
    "  print('Strategies: ')\n",
    "  for i in range(rows):\n",
    "    print(x2[i].SolutionValue(), end=' ')\n",
    "  print()\n",
    "\n",
    "  print()\n",
    "  print('walltime  :', solver.WallTime(), 'ms')\n",
    "  print('iterations:', solver.Iterations())\n",
    "  print()\n",
    "\n",
    "\n",
    "sol = 'CBC'\n",
    "if len(sys.argv) > 1:\n",
    "  sol = sys.argv[1]\n",
    "  if sol != 'GLPK' and sol != 'CBC':\n",
    "    print('Solver must be either GLPK or CBC')\n",
    "    sys.exit(1)\n",
    "\n",
    "main(sol)\n",
    "\n"
   ]
  }
 ],
 "metadata": {},
 "nbformat": 4,
 "nbformat_minor": 5
}
