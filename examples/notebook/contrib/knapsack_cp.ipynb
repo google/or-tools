{
 "cells": [
  {
   "cell_type": "markdown",
   "id": "google",
   "metadata": {},
   "source": [
    "##### Copyright 2022 Google LLC."
   ]
  },
  {
   "cell_type": "markdown",
   "id": "apache",
   "metadata": {},
   "source": [
    "Licensed under the Apache License, Version 2.0 (the \"License\");\n",
    "you may not use this file except in compliance with the License.\n",
    "You may obtain a copy of the License at\n",
    "\n",
    "    http://www.apache.org/licenses/LICENSE-2.0\n",
    "\n",
    "Unless required by applicable law or agreed to in writing, software\n",
    "distributed under the License is distributed on an \"AS IS\" BASIS,\n",
    "WITHOUT WARRANTIES OR CONDITIONS OF ANY KIND, either express or implied.\n",
    "See the License for the specific language governing permissions and\n",
    "limitations under the License.\n"
   ]
  },
  {
   "cell_type": "markdown",
   "id": "basename",
   "metadata": {},
   "source": [
    "# knapsack_cp"
   ]
  },
  {
   "cell_type": "markdown",
   "id": "link",
   "metadata": {},
   "source": [
    "<table align=\"left\">\n",
    "<td>\n",
    "<a href=\"https://colab.research.google.com/github/google/or-tools/blob/main/examples/notebook/contrib/knapsack_cp.ipynb\"><img src=\"https://raw.githubusercontent.com/google/or-tools/main/tools/colab_32px.png\"/>Run in Google Colab</a>\n",
    "</td>\n",
    "<td>\n",
    "<a href=\"https://github.com/google/or-tools/blob/main/examples/contrib/knapsack_cp.py\"><img src=\"https://raw.githubusercontent.com/google/or-tools/main/tools/github_32px.png\"/>View source on GitHub</a>\n",
    "</td>\n",
    "</table>"
   ]
  },
  {
   "cell_type": "markdown",
   "id": "doc",
   "metadata": {},
   "source": [
    "First, you must install [ortools](https://pypi.org/project/ortools/) package in this colab."
   ]
  },
  {
   "cell_type": "code",
   "execution_count": null,
   "id": "install",
   "metadata": {},
   "outputs": [],
   "source": [
    "!pip install ortools"
   ]
  },
  {
   "cell_type": "markdown",
   "id": "description",
   "metadata": {},
   "source": [
    "\n",
    "\n",
    "  Knapsack problem in Google CP Solver.\n",
    "\n",
    "  Simple knapsack problem.\n",
    "\n",
    "  This model was created by Hakan Kjellerstrand (hakank@gmail.com)\n",
    "  Also see my other Google CP Solver models:\n",
    "  http://www.hakank.org/google_or_tools/\n"
   ]
  },
  {
   "cell_type": "code",
   "execution_count": null,
   "id": "code",
   "metadata": {},
   "outputs": [],
   "source": [
    "from ortools.constraint_solver import pywrapcp\n",
    "\n",
    "\n",
    "def knapsack(solver, values, weights, n):\n",
    "  z = solver.IntVar(0, 10000)\n",
    "  x = [solver.IntVar(0, 1, \"x(%i)\" % i) for i in range(len(values))]\n",
    "  solver.Add(z >= 0)\n",
    "  solver.Add(z == solver.ScalProd(x, values))\n",
    "  solver.Add(solver.ScalProd(x, weights) <= n)\n",
    "\n",
    "  return [x, z]\n",
    "\n",
    "\n",
    "def main(values, weights, n):\n",
    "  # Create the solver.\n",
    "  solver = pywrapcp.Solver(\"knapsack_cp\")\n",
    "\n",
    "  #\n",
    "  # data\n",
    "  #\n",
    "  print(\"values:\", values)\n",
    "  print(\"weights:\", weights)\n",
    "  print(\"n:\", n)\n",
    "  print()\n",
    "\n",
    "  # declare variables\n",
    "\n",
    "  #\n",
    "  # constraints\n",
    "  #\n",
    "  [x, z] = knapsack(solver, values, weights, n)\n",
    "\n",
    "  # objective\n",
    "  objective = solver.Maximize(z, 1)\n",
    "\n",
    "  #\n",
    "  # solution and search\n",
    "  #\n",
    "  solution = solver.Assignment()\n",
    "  solution.Add(x)\n",
    "  solution.Add(z)\n",
    "\n",
    "  # db: DecisionBuilder\n",
    "  db = solver.Phase(x, solver.CHOOSE_FIRST_UNBOUND, solver.ASSIGN_MAX_VALUE)\n",
    "\n",
    "  solver.NewSearch(db, [objective])\n",
    "  num_solutions = 0\n",
    "  while solver.NextSolution():\n",
    "    print(\"x:\", [x[i].Value() for i in range(len(values))])\n",
    "    print(\"z:\", z.Value())\n",
    "    print()\n",
    "    num_solutions += 1\n",
    "  solver.EndSearch()\n",
    "\n",
    "  print()\n",
    "  print(\"num_solutions:\", num_solutions)\n",
    "  print(\"failures:\", solver.Failures())\n",
    "  print(\"branches:\", solver.Branches())\n",
    "  print(\"WallTime:\", solver.WallTime())\n",
    "\n",
    "\n",
    "values = [15, 100, 90, 60, 40, 15, 10, 1, 12, 12, 100]\n",
    "weights = [2, 20, 20, 30, 40, 30, 60, 10, 21, 12, 2]\n",
    "n = 102\n",
    "\n",
    "main(values, weights, n)\n",
    "\n"
   ]
  }
 ],
 "metadata": {},
 "nbformat": 4,
 "nbformat_minor": 5
}
