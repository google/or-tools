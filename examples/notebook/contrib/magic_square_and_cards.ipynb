{
 "cells": [
  {
   "cell_type": "markdown",
   "id": "google",
   "metadata": {},
   "source": [
    "##### Copyright 2022 Google LLC."
   ]
  },
  {
   "cell_type": "markdown",
   "id": "apache",
   "metadata": {},
   "source": [
    "Licensed under the Apache License, Version 2.0 (the \"License\");\n",
    "you may not use this file except in compliance with the License.\n",
    "You may obtain a copy of the License at\n",
    "\n",
    "    http://www.apache.org/licenses/LICENSE-2.0\n",
    "\n",
    "Unless required by applicable law or agreed to in writing, software\n",
    "distributed under the License is distributed on an \"AS IS\" BASIS,\n",
    "WITHOUT WARRANTIES OR CONDITIONS OF ANY KIND, either express or implied.\n",
    "See the License for the specific language governing permissions and\n",
    "limitations under the License.\n"
   ]
  },
  {
   "cell_type": "markdown",
   "id": "basename",
   "metadata": {},
   "source": [
    "# magic_square_and_cards"
   ]
  },
  {
   "cell_type": "markdown",
   "id": "link",
   "metadata": {},
   "source": [
    "<table align=\"left\">\n",
    "<td>\n",
    "<a href=\"https://colab.research.google.com/github/google/or-tools/blob/main/examples/notebook/contrib/magic_square_and_cards.ipynb\"><img src=\"https://raw.githubusercontent.com/google/or-tools/main/tools/colab_32px.png\"/>Run in Google Colab</a>\n",
    "</td>\n",
    "<td>\n",
    "<a href=\"https://github.com/google/or-tools/blob/main/examples/contrib/magic_square_and_cards.py\"><img src=\"https://raw.githubusercontent.com/google/or-tools/main/tools/github_32px.png\"/>View source on GitHub</a>\n",
    "</td>\n",
    "</table>"
   ]
  },
  {
   "cell_type": "markdown",
   "id": "doc",
   "metadata": {},
   "source": [
    "First, you must install [ortools](https://pypi.org/project/ortools/) package in this colab."
   ]
  },
  {
   "cell_type": "code",
   "execution_count": null,
   "id": "install",
   "metadata": {},
   "outputs": [],
   "source": [
    "!pip install ortools"
   ]
  },
  {
   "cell_type": "markdown",
   "id": "description",
   "metadata": {},
   "source": [
    "\n",
    "\n",
    "  Magic squares and cards problem in Google CP Solver.\n",
    "\n",
    "  Martin Gardner (July 1971)\n",
    "  '''\n",
    "  Allowing duplicates values, what is the largest constant sum for an order-3\n",
    "  magic square that can be formed with nine cards from the deck.\n",
    "  '''\n",
    "\n",
    "\n",
    "\n",
    "  This model was created by Hakan Kjellerstrand (hakank@gmail.com)\n",
    "  Also see my other Google CP Solver models:\n",
    "  http://www.hakank.org/google_or_tools/\n"
   ]
  },
  {
   "cell_type": "code",
   "execution_count": null,
   "id": "code",
   "metadata": {},
   "outputs": [],
   "source": [
    "import sys\n",
    "from ortools.constraint_solver import pywrapcp\n",
    "\n",
    "\n",
    "def main(n=3):\n",
    "  # Create the solver.\n",
    "  solver = pywrapcp.Solver(\"n-queens\")\n",
    "\n",
    "  #\n",
    "  # data\n",
    "  #\n",
    "  # n = 3\n",
    "\n",
    "  #\n",
    "  # declare variables\n",
    "  #\n",
    "  x = {}\n",
    "  for i in range(n):\n",
    "    for j in range(n):\n",
    "      x[(i, j)] = solver.IntVar(1, 13, \"x(%i,%i)\" % (i, j))\n",
    "  x_flat = [x[(i, j)] for i in range(n) for j in range(n)]\n",
    "\n",
    "  s = solver.IntVar(1, 13 * 4, \"s\")\n",
    "  counts = [solver.IntVar(0, 4, \"counts(%i)\" % i) for i in range(14)]\n",
    "\n",
    "  #\n",
    "  # constraints\n",
    "  #\n",
    "  solver.Add(solver.Distribute(x_flat, list(range(14)), counts))\n",
    "\n",
    "  # the standard magic square constraints (sans all_different)\n",
    "  [solver.Add(solver.Sum([x[(i, j)] for j in range(n)]) == s) for i in range(n)]\n",
    "  [solver.Add(solver.Sum([x[(i, j)] for i in range(n)]) == s) for j in range(n)]\n",
    "\n",
    "  solver.Add(solver.Sum([x[(i, i)] for i in range(n)]) == s)  # diag 1\n",
    "  solver.Add(solver.Sum([x[(i, n - i - 1)] for i in range(n)]) == s)  # diag 2\n",
    "\n",
    "  # redundant constraint\n",
    "  solver.Add(solver.Sum(counts) == n * n)\n",
    "\n",
    "  # objective\n",
    "  objective = solver.Maximize(s, 1)\n",
    "\n",
    "  #\n",
    "  # solution and search\n",
    "  #\n",
    "  solution = solver.Assignment()\n",
    "  solution.Add(x_flat)\n",
    "  solution.Add(s)\n",
    "  solution.Add(counts)\n",
    "\n",
    "  # db: DecisionBuilder\n",
    "  db = solver.Phase(x_flat, solver.CHOOSE_FIRST_UNBOUND,\n",
    "                    solver.ASSIGN_MAX_VALUE)\n",
    "\n",
    "  solver.NewSearch(db, [objective])\n",
    "  num_solutions = 0\n",
    "  while solver.NextSolution():\n",
    "    print(\"s:\", s.Value())\n",
    "    print(\"counts:\", [counts[i].Value() for i in range(14)])\n",
    "    for i in range(n):\n",
    "      for j in range(n):\n",
    "        print(x[(i, j)].Value(), end=\" \")\n",
    "      print()\n",
    "\n",
    "    print()\n",
    "    num_solutions += 1\n",
    "  solver.EndSearch()\n",
    "\n",
    "  print()\n",
    "  print(\"num_solutions:\", num_solutions)\n",
    "  print(\"failures:\", solver.Failures())\n",
    "  print(\"branches:\", solver.Branches())\n",
    "  print(\"WallTime:\", solver.WallTime())\n",
    "\n",
    "\n",
    "n = 3\n",
    "if len(sys.argv) > 1:\n",
    "  n = int(sys.argv[1])\n",
    "main(n)\n",
    "\n"
   ]
  }
 ],
 "metadata": {},
 "nbformat": 4,
 "nbformat_minor": 5
}
