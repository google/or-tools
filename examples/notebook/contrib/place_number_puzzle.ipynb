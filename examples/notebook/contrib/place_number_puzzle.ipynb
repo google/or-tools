{
 "cells": [
  {
   "cell_type": "markdown",
   "id": "google",
   "metadata": {},
   "source": [
    "##### Copyright 2022 Google LLC."
   ]
  },
  {
   "cell_type": "markdown",
   "id": "apache",
   "metadata": {},
   "source": [
    "Licensed under the Apache License, Version 2.0 (the \"License\");\n",
    "you may not use this file except in compliance with the License.\n",
    "You may obtain a copy of the License at\n",
    "\n",
    "    http://www.apache.org/licenses/LICENSE-2.0\n",
    "\n",
    "Unless required by applicable law or agreed to in writing, software\n",
    "distributed under the License is distributed on an \"AS IS\" BASIS,\n",
    "WITHOUT WARRANTIES OR CONDITIONS OF ANY KIND, either express or implied.\n",
    "See the License for the specific language governing permissions and\n",
    "limitations under the License.\n"
   ]
  },
  {
   "cell_type": "markdown",
   "id": "basename",
   "metadata": {},
   "source": [
    "# place_number_puzzle"
   ]
  },
  {
   "cell_type": "markdown",
   "id": "link",
   "metadata": {},
   "source": [
    "<table align=\"left\">\n",
    "<td>\n",
    "<a href=\"https://colab.research.google.com/github/google/or-tools/blob/main/examples/notebook/contrib/place_number_puzzle.ipynb\"><img src=\"https://raw.githubusercontent.com/google/or-tools/main/tools/colab_32px.png\"/>Run in Google Colab</a>\n",
    "</td>\n",
    "<td>\n",
    "<a href=\"https://github.com/google/or-tools/blob/main/examples/contrib/place_number_puzzle.py\"><img src=\"https://raw.githubusercontent.com/google/or-tools/main/tools/github_32px.png\"/>View source on GitHub</a>\n",
    "</td>\n",
    "</table>"
   ]
  },
  {
   "cell_type": "markdown",
   "id": "doc",
   "metadata": {},
   "source": [
    "First, you must install [ortools](https://pypi.org/project/ortools/) package in this colab."
   ]
  },
  {
   "cell_type": "code",
   "execution_count": null,
   "id": "install",
   "metadata": {},
   "outputs": [],
   "source": [
    "!pip install ortools"
   ]
  },
  {
   "cell_type": "markdown",
   "id": "description",
   "metadata": {},
   "source": [
    "\n",
    "\n",
    "  Place number puzzle Google CP Solver.\n",
    "\n",
    "  http://ai.uwaterloo.ca/~vanbeek/Courses/Slides/introduction.pdf\n",
    "  '''\n",
    "  Place numbers 1 through 8 on nodes\n",
    "  - each number appears exactly once\n",
    "  - no connected nodes have consecutive numbers\n",
    "       2 - 5\n",
    "     / | X | \\\n",
    "   1 - 3 - 6 - 8\n",
    "     \\ | X | /\n",
    "       4 - 7\n",
    "  \"\"\n",
    "\n",
    "  Compare with the following models:\n",
    "  * MiniZinc: http://www.hakank.org/minizinc/place_number.mzn\n",
    "  * Comet: http://www.hakank.org/comet/place_number_puzzle.co\n",
    "  * ECLiPSe: http://www.hakank.org/eclipse/place_number_puzzle.ecl\n",
    "  * SICStus Prolog: http://www.hakank.org/sicstus/place_number_puzzle.pl\n",
    "  * Gecode: http://www.hakank.org/gecode/place_number_puzzle.cpp\n",
    "\n",
    "  This model was created by Hakan Kjellerstrand (hakank@gmail.com)\n",
    "  Also see my other Google CP Solver models:\n",
    "  http://www.hakank.org/google_or_tools/\n",
    "\n"
   ]
  },
  {
   "cell_type": "code",
   "execution_count": null,
   "id": "code",
   "metadata": {},
   "outputs": [],
   "source": [
    "import sys\n",
    "from ortools.constraint_solver import pywrapcp\n",
    "\n",
    "\n",
    "def main():\n",
    "\n",
    "  # Create the solver.\n",
    "  solver = pywrapcp.Solver(\"Place number\")\n",
    "\n",
    "  # data\n",
    "  m = 32\n",
    "  n = 8\n",
    "  # Note: this is 1-based for compatibility (and lazyness)\n",
    "  graph = [[1, 2], [1, 3], [1, 4], [2, 1], [2, 3], [2, 5], [2, 6], [3, 2],\n",
    "           [3, 4], [3, 6], [3, 7], [4, 1], [4, 3], [4, 6], [4, 7], [5, 2],\n",
    "           [5, 3], [5, 6], [5, 8], [6, 2], [6, 3], [6, 4], [6, 5], [6, 7],\n",
    "           [6, 8], [7, 3], [7, 4], [7, 6], [7, 8], [8, 5], [8, 6], [8, 7]]\n",
    "\n",
    "  # declare variables\n",
    "  x = [solver.IntVar(1, n, \"x%i\" % i) for i in range(n)]\n",
    "\n",
    "  #\n",
    "  # constraints\n",
    "  #\n",
    "  solver.Add(solver.AllDifferent(x))\n",
    "  for i in range(m):\n",
    "    # Note: make 0-based\n",
    "    solver.Add(abs(x[graph[i][0] - 1] - x[graph[i][1] - 1]) > 1)\n",
    "\n",
    "  # symmetry breaking\n",
    "  solver.Add(x[0] < x[n - 1])\n",
    "\n",
    "  #\n",
    "  # solution and search\n",
    "  #\n",
    "  solution = solver.Assignment()\n",
    "  solution.Add(x)\n",
    "\n",
    "  collector = solver.AllSolutionCollector(solution)\n",
    "\n",
    "  solver.Solve(\n",
    "      solver.Phase(x, solver.CHOOSE_FIRST_UNBOUND, solver.ASSIGN_MIN_VALUE),\n",
    "      [collector])\n",
    "\n",
    "  num_solutions = collector.SolutionCount()\n",
    "  for s in range(num_solutions):\n",
    "    print(\"x:\", [collector.Value(s, x[i]) for i in range(len(x))])\n",
    "\n",
    "  print()\n",
    "  print(\"num_solutions:\", num_solutions)\n",
    "  print(\"failures:\", solver.Failures())\n",
    "  print(\"branches:\", solver.Branches())\n",
    "  print(\"WallTime:\", solver.WallTime())\n",
    "  print()\n",
    "\n",
    "\n",
    "main()\n",
    "\n"
   ]
  }
 ],
 "metadata": {},
 "nbformat": 4,
 "nbformat_minor": 5
}
