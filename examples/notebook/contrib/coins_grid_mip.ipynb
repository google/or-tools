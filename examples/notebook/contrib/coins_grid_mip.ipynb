{
 "cells": [
  {
   "cell_type": "markdown",
   "id": "google",
   "metadata": {},
   "source": [
    "##### Copyright 2022 Google LLC."
   ]
  },
  {
   "cell_type": "markdown",
   "id": "apache",
   "metadata": {},
   "source": [
    "Licensed under the Apache License, Version 2.0 (the \"License\");\n",
    "you may not use this file except in compliance with the License.\n",
    "You may obtain a copy of the License at\n",
    "\n",
    "    http://www.apache.org/licenses/LICENSE-2.0\n",
    "\n",
    "Unless required by applicable law or agreed to in writing, software\n",
    "distributed under the License is distributed on an \"AS IS\" BASIS,\n",
    "WITHOUT WARRANTIES OR CONDITIONS OF ANY KIND, either express or implied.\n",
    "See the License for the specific language governing permissions and\n",
    "limitations under the License.\n"
   ]
  },
  {
   "cell_type": "markdown",
   "id": "basename",
   "metadata": {},
   "source": [
    "# coins_grid_mip"
   ]
  },
  {
   "cell_type": "markdown",
   "id": "link",
   "metadata": {},
   "source": [
    "<table align=\"left\">\n",
    "<td>\n",
    "<a href=\"https://colab.research.google.com/github/google/or-tools/blob/main/examples/notebook/contrib/coins_grid_mip.ipynb\"><img src=\"https://raw.githubusercontent.com/google/or-tools/main/tools/colab_32px.png\"/>Run in Google Colab</a>\n",
    "</td>\n",
    "<td>\n",
    "<a href=\"https://github.com/google/or-tools/blob/main/examples/contrib/coins_grid_mip.py\"><img src=\"https://raw.githubusercontent.com/google/or-tools/main/tools/github_32px.png\"/>View source on GitHub</a>\n",
    "</td>\n",
    "</table>"
   ]
  },
  {
   "cell_type": "markdown",
   "id": "doc",
   "metadata": {},
   "source": [
    "First, you must install [ortools](https://pypi.org/project/ortools/) package in this colab."
   ]
  },
  {
   "cell_type": "code",
   "execution_count": null,
   "id": "install",
   "metadata": {},
   "outputs": [],
   "source": [
    "!pip install ortools"
   ]
  },
  {
   "cell_type": "markdown",
   "id": "description",
   "metadata": {},
   "source": [
    "\n",
    "\n",
    "  Coins grid problem in Google CP Solver.\n",
    "\n",
    "\n",
    "  Problem from\n",
    "  Tony Hurlimann: \"A coin puzzle - SVOR-contest 2007\"\n",
    "  http://www.svor.ch/competitions/competition2007/AsroContestSolution.pdf\n",
    "  '''\n",
    "  In a quadratic grid (or a larger chessboard) with 31x31 cells, one should\n",
    "  place coins in such a way that the following conditions are fulfilled:\n",
    "     1. In each row exactly 14 coins must be placed.\n",
    "     2. In each column exactly 14 coins must be placed.\n",
    "     3. The sum of the quadratic horizontal distance from the main diagonal\n",
    "        of all cells containing a coin must be as small as possible.\n",
    "     4. In each cell at most one coin can be placed.\n",
    "  The description says to place 14x31 = 434 coins on the chessboard each row\n",
    "  containing 14 coins and each column also containing 14 coins.\n",
    "  '''\n",
    "\n",
    "  This is a MIP version of\n",
    "     http://www.hakank.org/google_or_tools/coins_grid.py\n",
    "  and use\n",
    "\n",
    "  This model was created by Hakan Kjellerstrand (hakank@gmail.com)\n",
    "  Also see my other Google CP Solver models:\n",
    "  http://www.hakank.org/google_or_tools/\n",
    "\n"
   ]
  },
  {
   "cell_type": "code",
   "execution_count": null,
   "id": "code",
   "metadata": {},
   "outputs": [],
   "source": [
    "from ortools.linear_solver import pywraplp\n",
    "\n",
    "\n",
    "def main(unused_argv):\n",
    "  # Create the solver.\n",
    "\n",
    "  # using CBC\n",
    "  solver = pywraplp.Solver.CreateSolver('CBC')\n",
    "  if not solver:\n",
    "    return\n",
    "\n",
    "  # data\n",
    "  n = 31  # the grid size\n",
    "  c = 14  # number of coins per row/column\n",
    "\n",
    "  # declare variables\n",
    "  x = {}\n",
    "  for i in range(n):\n",
    "    for j in range(n):\n",
    "      x[(i, j)] = solver.IntVar(0, 1, 'x[%i,%i]' % (i, j))\n",
    "\n",
    "  #\n",
    "  # constraints\n",
    "  #\n",
    "\n",
    "  # sum rows/columns == c\n",
    "  for i in range(n):\n",
    "    solver.Add(solver.Sum([x[(i, j)] for j in range(n)]) == c)  # sum rows\n",
    "    solver.Add(solver.Sum([x[(j, i)] for j in range(n)]) == c)  # sum cols\n",
    "\n",
    "  # quadratic horizonal distance var\n",
    "  objective_var = solver.Sum(\n",
    "      [x[(i, j)] * (i - j) * (i - j) for i in range(n) for j in range(n)])\n",
    "\n",
    "  # objective\n",
    "  objective = solver.Minimize(objective_var)\n",
    "\n",
    "  #\n",
    "  # solution and search\n",
    "  #\n",
    "  solver.Solve()\n",
    "\n",
    "  for i in range(n):\n",
    "    for j in range(n):\n",
    "      # int representation\n",
    "      print(int(x[(i, j)].SolutionValue()), end=' ')\n",
    "    print()\n",
    "  print()\n",
    "\n",
    "  print()\n",
    "  print('walltime  :', solver.WallTime(), 'ms')\n",
    "  # print 'iterations:', solver.Iterations()\n",
    "\n",
    "\n",
    "main('coin grids')\n",
    "\n"
   ]
  }
 ],
 "metadata": {},
 "nbformat": 4,
 "nbformat_minor": 5
}
